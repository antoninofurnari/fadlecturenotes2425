{
 "cells": [
  {
   "cell_type": "markdown",
   "metadata": {},
   "source": [
    "# Introduzione a Numpy\n",
    "\n",
    "**Numpy** è la libreria di riferimento di **scipy** per il calcolo scientifico. Il cuore della libreria è costituito dai **numpy array** che permettono di gestire agevolmente operazioni tra vettori e matrici. Gli array di Python sono in generale **tensori**, ovvero strutture numeriche dal numero di dimensioni variabili, che possono dunque essere array monodimensionali, matrici bidimensionali, o strutture a più dimensioni (es. cuboidi 10 x 10 x 10). Per utilizzare gli array di numpy, dobbiamo prima importare il pacchetto **numpy**:"
   ]
  },
  {
   "cell_type": "code",
   "execution_count": 130,
   "metadata": {},
   "outputs": [],
   "source": [
    "import numpy as np #la notazione \"as\" ci permette di referenziare il namespace numpy semplicemente con np in futuro"
   ]
  },
  {
   "cell_type": "markdown",
   "metadata": {},
   "source": [
    "## Numpy Arrays\n",
    "Un array multidimensionale di numpy può essere definito a partire da una lista di liste, come segue:"
   ]
  },
  {
   "cell_type": "code",
   "execution_count": 131,
   "metadata": {},
   "outputs": [
    {
     "name": "stdout",
     "output_type": "stream",
     "text": [
      "List of lists: [[1, 2, 3], [4, 5, 2], [1, 8, 3]]\n",
      "Numpy array:\n",
      " [[1 2 3]\n",
      " [4 5 2]\n",
      " [1 8 3]]\n",
      "Numpy array from tuple:\n",
      " [[1 2 3]\n",
      " [4 5 6]]\n"
     ]
    }
   ],
   "source": [
    "l = [[1,2,3],[4,5,2],[1,8,3]] #una lista contenente tre liste\n",
    "print(\"List of lists:\",l) #viene visualizzata così come l'abbiamo definita\n",
    "a = np.array(l) #costruisco un array di numpy a partire dalla lista di liste\n",
    "print(\"Numpy array:\\n\",a) #ogni lista interna viene identificata come una riga di una matrice bidimensionale\n",
    "print(\"Numpy array from tuple:\\n\",np.array(((1,2,3),(4,5,6)))) #posso creare numpy array anche da tuple"
   ]
  },
  {
   "cell_type": "markdown",
   "metadata": {},
   "source": [
    "> **🙋‍♂️ Domanda 1**\n",
    "> \n",
    "> Qual è un vantaggio evidente degli array di numpy rispetto alle liste, visti gli esempi mostrati sopra?"
   ]
  },
  {
   "cell_type": "markdown",
   "metadata": {},
   "source": [
    "Ogni array di numpy ha una proprietà _shape_ che ci permette di determinare il numero di dimensioni della struttura:"
   ]
  },
  {
   "cell_type": "code",
   "execution_count": 132,
   "metadata": {},
   "outputs": [
    {
     "name": "stdout",
     "output_type": "stream",
     "text": [
      "(3, 3)\n"
     ]
    }
   ],
   "source": [
    "print(a.shape) #si tratta di una matrice 3 x 3"
   ]
  },
  {
   "cell_type": "markdown",
   "metadata": {},
   "source": [
    "Vediamo qualche altro esempio:"
   ]
  },
  {
   "cell_type": "code",
   "execution_count": 133,
   "metadata": {},
   "outputs": [
    {
     "name": "stdout",
     "output_type": "stream",
     "text": [
      "Array: [1 2 3 4] (4,)\n",
      "Matrix:\n",
      " [[1 2 3 4]\n",
      " [5 4 2 3]\n",
      " [7 5 3 2]\n",
      " [0 2 3 1]] (4, 4)\n",
      "matrix:\n",
      " [[['1' '2' '3' '4']\n",
      "  ['a' 'b' 'c' 'd']]\n",
      "\n",
      " [['5' '4' '2' '3']\n",
      "  ['a' 'b' 'c' 'd']]\n",
      "\n",
      " [['7' '5' '3' '2']\n",
      "  ['a' 'b' 'c' 'd']]\n",
      "\n",
      " [['0' '2' '3' '1']\n",
      "  ['a' 'b' 'c' 'd']]] (4, 2, 4)\n"
     ]
    }
   ],
   "source": [
    "array = np.array([1,2,3,4]) \n",
    "matrice = np.array([[1,2,3,4],[5,4,2,3],[7,5,3,2],[0,2,3,1]]) \n",
    "tensore = np.array([[[1,2,3,4],['a','b','c','d']],[[5,4,2,3],['a','b','c','d']],[[7,5,3,2],['a','b','c','d']],[[0,2,3,1],['a','b','c','d']]]) \n",
    "print('Array:',array, array.shape) #array monodimensionale, avrà una sola dimensione\n",
    "print('Matrix:\\n',matrice, matrice.shape)\n",
    "print('matrix:\\n',tensore, tensore.shape) #tensore, avrà due dimensioni"
   ]
  },
  {
   "cell_type": "markdown",
   "metadata": {},
   "source": [
    "> **🙋‍♂️ Domanda 2**\n",
    "> \n",
    "> In Numpy, esiste una differenza formale tra un array monodimensionale e una matrice contenente una unica riga (o una unica colonna)?"
   ]
  },
  {
   "cell_type": "markdown",
   "metadata": {},
   "source": [
    "Gli array di Numpy supportano le operazioni elemento per elemento. Vediamo le principali operazioni di questo tipo:"
   ]
  },
  {
   "cell_type": "code",
   "execution_count": 134,
   "metadata": {},
   "outputs": [
    {
     "name": "stdout",
     "output_type": "stream",
     "text": [
      "Sum: [ 5  5 11  5]\n",
      "Elementwise multiplication: [ 4  6 24  4]\n",
      "Power of two: [ 1  4  9 16]\n",
      "Elementwise power: [   1    8 6561    4]\n",
      "Vector product: 38\n",
      "Minimum: 1\n",
      "Maximum: 4\n",
      "Sum: 16\n",
      "Product: 96\n",
      "Mean: 2.5\n"
     ]
    }
   ],
   "source": [
    "a1 = np.array([1,2,3,4]) \n",
    "a2 = np.array([4,3,8,1]) \n",
    "print(\"Sum:\",a1+a2) #somma tra vettori\n",
    "print(\"Elementwise multiplication:\",a1*a2) #moltiplicazione tra elementi corrispondenti\n",
    "print(\"Power of two:\",a1**2) #quadrato degli elementi\n",
    "print(\"Elementwise power:\",a1**a2) #elevamento a potenza elemento per elemento\n",
    "print(\"Vector product:\",a1.dot(a2)) #prodotto vettoriale\n",
    "print(\"Minimum:\",a1.min()) #minimo dell'array\n",
    "print(\"Maximum:\",a1.max()) #massimo dell'array\n",
    "print(\"Sum:\",a2.sum()) #somma di tutti i valori dell'array\n",
    "print(\"Product:\",a2.prod()) #prodotto di tutti i valori dell'array\n",
    "print(\"Mean:\",a1.mean()) #media di tutti i valori dell'array"
   ]
  },
  {
   "cell_type": "markdown",
   "metadata": {},
   "source": [
    "Operazioni tra matrici:"
   ]
  },
  {
   "cell_type": "code",
   "execution_count": 135,
   "metadata": {},
   "outputs": [
    {
     "name": "stdout",
     "output_type": "stream",
     "text": [
      "Sum: [[ 9  4  4  8]\n",
      " [ 5  8  8  4]\n",
      " [11  9  5  2]\n",
      " [ 0  3 11  7]]\n",
      "Elementwise product:\n",
      " [[ 8  4  3 16]\n",
      " [ 0 16 12  3]\n",
      " [28 20  6  0]\n",
      " [ 0  2 24  6]]\n",
      "Power of two:\n",
      " [[ 1  4  9 16]\n",
      " [25 16  4  9]\n",
      " [49 25  9  4]\n",
      " [ 0  4  9  1]]\n",
      "Elementwise power:\n",
      " [[   1    4    3  256]\n",
      " [   1  256   64    3]\n",
      " [2401  625    9    1]\n",
      " [   1    2 6561    1]]\n",
      "Matrix multiplication:\n",
      " [[20 26 51 30]\n",
      " [48 37 57 42]\n",
      " [68 48 59 45]\n",
      " [12 21 26  8]]\n",
      "Minimum: 0\n",
      "Maximum: 7\n",
      "Minimum along columns: [0 2 2 1]\n",
      "Minimum along rows: [1 2 2 0]\n",
      "Sum: 47\n",
      "Mean: 2.9375\n",
      "Diagonal: [1 4 3 1]\n",
      "Transposed:\n",
      " [[1 5 7 0]\n",
      " [2 4 5 2]\n",
      " [3 2 3 3]\n",
      " [4 3 2 1]]\n"
     ]
    }
   ],
   "source": [
    "m1 = np.array([[1,2,3,4],[5,4,2,3],[7,5,3,2],[0,2,3,1]]) \n",
    "m2 = np.array([[8,2,1,4],[0,4,6,1],[4,4,2,0],[0,1,8,6]]) \n",
    "\n",
    "print(\"Sum:\",m1+m2) #somma tra matrici\n",
    "print(\"Elementwise product:\\n\",m1*m2) #prodotto elemento per elemento\n",
    "print(\"Power of two:\\n\",m1**2) #quadrato degli elementi\n",
    "print(\"Elementwise power:\\n\",m1**m2) #elevamento a potenza elemento per elemento\n",
    "print(\"Matrix multiplication:\\n\",m1.dot(m2)) #prodotto matriciale\n",
    "print(\"Minimum:\",m1.min()) #minimo\n",
    "print(\"Maximum:\",m1.max()) #massimo\n",
    "print(\"Minimum along columns:\",m1.min(0)) #minimo per colonne\n",
    "print(\"Minimum along rows:\",m1.min(1)) #minimo per righe\n",
    "print(\"Sum:\",m1.sum()) #somma dei valori\n",
    "print(\"Mean:\",m1.mean()) #valore medio\n",
    "print(\"Diagonal:\",m1.diagonal()) #diagonale principale della matrice\n",
    "print(\"Transposed:\\n\",m1.T) #matrice trasposta"
   ]
  },
  {
   "cell_type": "markdown",
   "metadata": {},
   "source": [
    "> **🙋‍♂️ Domanda 3**\n",
    "> \n",
    "> Qual è il vantaggio di utilizzare le operazioni illustrate sopra? Che codice servirebbe per effettuare l'operazione `a1**a2` se `a1` e `a2` fossero delle liste di Python piuttosto che degli array di numpy?"
   ]
  },
  {
   "cell_type": "markdown",
   "metadata": {},
   "source": [
    "## Linspace, Arange, Zeros, Ones, Eye e Random\n",
    "\n",
    "Le funzioni **linspace**, **arange**, **zeros**, **ones**, **eye** e **random** di **numpy** sono utili a generare array numerici al volo. In particolare, la funzione **linspace**, permette di generare una sequenza di **n** numeri equispaziati che vanno da un valore minimo a un valore massimo:"
   ]
  },
  {
   "cell_type": "code",
   "execution_count": 136,
   "metadata": {},
   "outputs": [
    {
     "name": "stdout",
     "output_type": "stream",
     "text": [
      "[10.  12.5 15.  17.5 20. ]\n"
     ]
    }
   ],
   "source": [
    "a=np.linspace(10,20,5) # genera 5 valori equispaziati che vanno da 10 a 20\n",
    "print(a)"
   ]
  },
  {
   "cell_type": "markdown",
   "metadata": {},
   "source": [
    "**arange** è molto simile a **range**, ma restituisce direttamente un array di **numpy**:"
   ]
  },
  {
   "cell_type": "code",
   "execution_count": 137,
   "metadata": {},
   "outputs": [
    {
     "name": "stdout",
     "output_type": "stream",
     "text": [
      "[0 1 2 3 4 5 6 7 8 9]\n",
      "[1 2 3 4 5]\n",
      "[0 2 4 6]\n"
     ]
    }
   ],
   "source": [
    "print(np.arange(10)) #numeri da 0 a 9\n",
    "print(np.arange(1,6)) #numeri da 1 a 5\n",
    "print(np.arange(0,7,2)) #numeri pari da 0 a 6"
   ]
  },
  {
   "cell_type": "markdown",
   "metadata": {},
   "source": [
    "> **🙋‍♂️ Domanda 4**\n",
    "> \n",
    "> È possibile ottenere lo stesso risultato di `arange` utilizzando `range`? Come?"
   ]
  },
  {
   "cell_type": "markdown",
   "metadata": {},
   "source": [
    "Possiamo creare array contenenti zero o uno di forme arbitrarie mediante **zeros** e **ones**:"
   ]
  },
  {
   "cell_type": "code",
   "execution_count": 138,
   "metadata": {},
   "outputs": [
    {
     "name": "stdout",
     "output_type": "stream",
     "text": [
      "[[0. 0. 0. 0.]\n",
      " [0. 0. 0. 0.]\n",
      " [0. 0. 0. 0.]]\n",
      "[[1.]\n",
      " [1.]]\n"
     ]
    }
   ],
   "source": [
    "print(np.zeros((3,4)))#zeros e ones prendono come parametro una tupla contenente le dimensioni desiderate\n",
    "print(np.ones((2,1)))"
   ]
  },
  {
   "cell_type": "markdown",
   "metadata": {},
   "source": [
    "La funzione **eye** permette di creare una matrice quadrata identità:"
   ]
  },
  {
   "cell_type": "code",
   "execution_count": 139,
   "metadata": {},
   "outputs": [
    {
     "name": "stdout",
     "output_type": "stream",
     "text": [
      "[[1. 0. 0.]\n",
      " [0. 1. 0.]\n",
      " [0. 0. 1.]]\n",
      "[[1. 0. 0. 0. 0.]\n",
      " [0. 1. 0. 0. 0.]\n",
      " [0. 0. 1. 0. 0.]\n",
      " [0. 0. 0. 1. 0.]\n",
      " [0. 0. 0. 0. 1.]]\n"
     ]
    }
   ],
   "source": [
    "print(np.eye(3))\n",
    "print(np.eye(5))"
   ]
  },
  {
   "cell_type": "markdown",
   "metadata": {},
   "source": [
    "Per costruire un array di valori casuali (distribuzione uniforme) tra 0 e 1 (zero incluso, uno escluso), basta scrivere:"
   ]
  },
  {
   "cell_type": "code",
   "execution_count": 140,
   "metadata": {},
   "outputs": [
    {
     "name": "stdout",
     "output_type": "stream",
     "text": [
      "[0.4455531  0.15464262 0.73300802 0.83126699 0.4840601 ]\n",
      "[[0.04519461 0.77306473]\n",
      " [0.81167333 0.33469426]\n",
      " [0.51806682 0.16306516]]\n"
     ]
    }
   ],
   "source": [
    "print(np.random.rand(5)) #un array con 5 valori casuali tra 0 e 1\n",
    "print(np.random.rand(3,2)) #una matrice 3x2 di valori casuali tra 0 e 1"
   ]
  },
  {
   "cell_type": "markdown",
   "metadata": {},
   "source": [
    "Possiamo generare un array di valori casuali distribuiti in maniera normale (Gaussiana) con **randn**:"
   ]
  },
  {
   "cell_type": "code",
   "execution_count": 141,
   "metadata": {},
   "outputs": [
    {
     "name": "stdout",
     "output_type": "stream",
     "text": [
      "[[-0.27659656 -1.47446936]\n",
      " [ 0.30758864  0.95848991]\n",
      " [-0.18955928  0.98689232]\n",
      " [-1.06568839  0.79190779]\n",
      " [ 0.63691861 -1.36459616]]\n"
     ]
    }
   ],
   "source": [
    "print(np.random.randn(5,2))"
   ]
  },
  {
   "cell_type": "markdown",
   "metadata": {},
   "source": [
    "Parleremo più in dettaglio della distribuzione Gaussiana in seguito."
   ]
  },
  {
   "cell_type": "markdown",
   "metadata": {},
   "source": [
    "Possiamo generare numeri interi compresi tra un minimo (incluso) e un massimo (escluso) usando **randint**:"
   ]
  },
  {
   "cell_type": "code",
   "execution_count": 142,
   "metadata": {},
   "outputs": [
    {
     "name": "stdout",
     "output_type": "stream",
     "text": [
      "[ 0 26 31]\n",
      "[[ 7  9  8]\n",
      " [47  3 27]]\n"
     ]
    }
   ],
   "source": [
    "print(np.random.randint(0,50,3))#tre valori compresi tra 0 e 50 (escluso)\n",
    "print(np.random.randint(0,50,(2,3)))#matrice 2x3 di valori interi casuali tra 0 e 50 (escluso)"
   ]
  },
  {
   "cell_type": "markdown",
   "metadata": {},
   "source": [
    "Per generare valori casuali in maniera replicabile, è possibile specificare un seed:"
   ]
  },
  {
   "cell_type": "code",
   "execution_count": 143,
   "metadata": {},
   "outputs": [
    {
     "name": "stdout",
     "output_type": "stream",
     "text": [
      "[0.69646919 0.28613933 0.22685145 0.55131477 0.71946897]\n"
     ]
    }
   ],
   "source": [
    "np.random.seed(123)\n",
    "print(np.random.rand(5))"
   ]
  },
  {
   "cell_type": "markdown",
   "metadata": {},
   "source": [
    "Il codice sopra (inclusa la definizione del seed) restituisce gli stessi risultati se rieseguito:"
   ]
  },
  {
   "cell_type": "code",
   "execution_count": 144,
   "metadata": {},
   "outputs": [
    {
     "name": "stdout",
     "output_type": "stream",
     "text": [
      "[0.69646919 0.28613933 0.22685145 0.55131477 0.71946897]\n"
     ]
    }
   ],
   "source": [
    "np.random.seed(123)\n",
    "print(np.random.rand(5))"
   ]
  },
  {
   "cell_type": "markdown",
   "metadata": {},
   "source": [
    "> **🙋‍♂️ Domanda 5**\n",
    "> \n",
    "> Qual è l'effetto di ri-eseguire la cella precedente cambiando il seed?"
   ]
  },
  {
   "cell_type": "markdown",
   "metadata": {},
   "source": [
    "## max, min, sum, argmax, argmin"
   ]
  },
  {
   "cell_type": "markdown",
   "metadata": {},
   "source": [
    "È possibile calcolare massimi e minimi e somme di una matrice per righe e colonne come segue:"
   ]
  },
  {
   "cell_type": "code",
   "execution_count": 145,
   "metadata": {},
   "outputs": [
    {
     "name": "stdout",
     "output_type": "stream",
     "text": [
      "[[  1  -5   0]\n",
      " [  4   3   6]\n",
      " [  5   8  -7]\n",
      " [ 10   6 -12]]\n",
      "\n",
      "[10  8  6]\n",
      "\n",
      "[ 1  6  8 10]\n",
      "\n",
      "[  1  -5 -12]\n",
      "\n",
      "[ -5   3  -7 -12]\n",
      "\n",
      "[ 20  12 -13]\n",
      "\n",
      "[-4 13  6  4]\n",
      "\n",
      "10\n",
      "-12\n",
      "19\n"
     ]
    }
   ],
   "source": [
    "mat = np.array([[1,-5,0],[4,3,6],[5,8,-7],[10,6,-12]])\n",
    "print(mat)\n",
    "print()\n",
    "print( mat.max(0))# massimi per colonne\n",
    "print()\n",
    "print(mat.max(1))# massimi per righe\n",
    "print()\n",
    "print (mat.min(0))# minimi per colonne\n",
    "print()\n",
    "print(mat.min(1))# minimi per righe\n",
    "print()\n",
    "print(mat.sum(0))# somma per colonne\n",
    "print()\n",
    "print(mat.sum(1))# somma per righe\n",
    "print()\n",
    "print(mat.max())# massimo globale\n",
    "print(mat.min())# minimo globale\n",
    "print(mat.sum())# somma globale"
   ]
  },
  {
   "cell_type": "markdown",
   "metadata": {},
   "source": [
    "È inoltre possibile ottenere gli indici in corrispondenza dei quali si hanno massimi e minimi usando la funzione argmax:"
   ]
  },
  {
   "cell_type": "code",
   "execution_count": 146,
   "metadata": {},
   "outputs": [
    {
     "name": "stdout",
     "output_type": "stream",
     "text": [
      "[3 2 1]\n"
     ]
    }
   ],
   "source": [
    "print(mat.argmax(0))"
   ]
  },
  {
   "cell_type": "markdown",
   "metadata": {},
   "source": [
    "Abbiamo un massimo alla quarta riga nella prima colonna, uno alla terza riga nella seconda colonna e uno alla seconda riga nella terza colonna. Verifichiamolo:"
   ]
  },
  {
   "cell_type": "code",
   "execution_count": 147,
   "metadata": {},
   "outputs": [
    {
     "name": "stdout",
     "output_type": "stream",
     "text": [
      "10\n",
      "8\n",
      "6\n",
      "[10  8  6]\n"
     ]
    }
   ],
   "source": [
    "print(mat[3,0])\n",
    "print(mat[2,1])\n",
    "print(mat[1,2])\n",
    "print(mat.max(0))"
   ]
  },
  {
   "cell_type": "markdown",
   "metadata": {},
   "source": [
    "Analogamente:"
   ]
  },
  {
   "cell_type": "code",
   "execution_count": 148,
   "metadata": {},
   "outputs": [
    {
     "name": "stdout",
     "output_type": "stream",
     "text": [
      "[0 2 1 0]\n",
      "[0 0 3]\n",
      "[1 1 2 2]\n"
     ]
    }
   ],
   "source": [
    "print(mat.argmax(1))\n",
    "print(mat.argmin(0))\n",
    "print(mat.argmin(1))"
   ]
  },
  {
   "cell_type": "markdown",
   "metadata": {},
   "source": [
    "## Indicizzazione e Slicing\n",
    "Gli array di numpy possono essere indicizzati in maniera simile a quanto avviene per le liste di Python:"
   ]
  },
  {
   "cell_type": "code",
   "execution_count": 149,
   "metadata": {},
   "outputs": [
    {
     "name": "stdout",
     "output_type": "stream",
     "text": [
      "arr[0]       -> 1\n",
      "arr[:3]      -> [1 2 3]\n",
      "arr[1:5:2]   -> [2 4]\n"
     ]
    }
   ],
   "source": [
    "arr = np.array([1,2,3,4,5])\n",
    "print(\"arr[0]       ->\",arr[0]) #primo elemento dell'array\n",
    "print(\"arr[:3]      ->\",arr[:3]) #primi tre elementi\n",
    "print(\"arr[1:5:2]   ->\",arr[1:4:2]) #dal secondo al quarto (incluso) a passo 2"
   ]
  },
  {
   "cell_type": "markdown",
   "metadata": {},
   "source": [
    "Quando si indicizza un array a più di una dimensioni con un unico indice, viene in automatico indicizzata la prima dimensione. Vediamo qualche esempio con le matrici bidimensionali:"
   ]
  },
  {
   "cell_type": "code",
   "execution_count": 150,
   "metadata": {},
   "outputs": [
    {
     "name": "stdout",
     "output_type": "stream",
     "text": [
      "Matrice:\n",
      " [[1 5 2 7]\n",
      " [2 7 3 2]\n",
      " [1 5 2 1]] (3, 4)\n",
      "mat[0]     -> [1 5 2 7]\n",
      "mat[-1]     -> [1 5 2 1]\n",
      "mat[::2]     -> [[1 5 2 7]\n",
      " [1 5 2 1]]\n"
     ]
    }
   ],
   "source": [
    "mat = np.array(([1,5,2,7],[2,7,3,2],[1,5,2,1])) \n",
    "print(\"Matrice:\\n\",mat,mat.shape) #matrice 3 x 4\n",
    "print(\"mat[0]     ->\",mat[0]) #una matrice è una collezione di righe, per cui mat[0] restituisce la prima riga\n",
    "print(\"mat[-1]     ->\",mat[-1]) #ultima riga\n",
    "print(\"mat[::2]     ->\",mat[::2]) #righe dispari"
   ]
  },
  {
   "cell_type": "markdown",
   "metadata": {},
   "source": [
    "Vediamo qualche esempio con tensori a più dimensioni:"
   ]
  },
  {
   "cell_type": "code",
   "execution_count": 151,
   "metadata": {},
   "outputs": [
    {
     "name": "stdout",
     "output_type": "stream",
     "text": [
      "Matrice:\n",
      " [[[1 5 2 7]\n",
      "  [2 7 3 2]\n",
      "  [1 5 2 1]]\n",
      "\n",
      " [[1 5 2 7]\n",
      "  [2 7 3 2]\n",
      "  [1 5 2 1]]] (2, 3, 4)\n",
      "tens[0]    -> [[1 5 2 7]\n",
      " [2 7 3 2]\n",
      " [1 5 2 1]]\n",
      "tens[-1]    -> [[1 5 2 7]\n",
      " [2 7 3 2]\n",
      " [1 5 2 1]]\n"
     ]
    }
   ],
   "source": [
    "tens = np.array(([[1,5,2,7],\n",
    "                [2,7,3,2],\n",
    "                [1,5,2,1]],\n",
    "                [[1,5,2,7],\n",
    "                [2,7,3,2],\n",
    "                [1,5,2,1]])) \n",
    "print(\"Matrice:\\n\",tens,tens.shape) #tensore 2x3x4\n",
    "print(\"tens[0]    ->\",tens[0])#si tratta della prima matrice 3x4\n",
    "print(\"tens[-1]    ->\",tens[-1])#ultima mtraice 3x4"
   ]
  },
  {
   "cell_type": "markdown",
   "metadata": {},
   "source": [
    "L'indicizzazione può proseguire attraverso le altre dimensioni specificando un ulteriore indice in parentesi quadre o separando i vari indici con la virgola:"
   ]
  },
  {
   "cell_type": "code",
   "execution_count": 152,
   "metadata": {},
   "outputs": [
    {
     "name": "stdout",
     "output_type": "stream",
     "text": [
      "Matrice:\n",
      " [[1 5 2 7]\n",
      " [2 7 3 2]\n",
      " [1 5 2 1]] (3, 4)\n",
      "mat[2][1]  -> 5\n",
      "mat[0,0]   -> 1\n",
      "mat[0]     ->  [1 5 2 7]\n",
      "mat[:,0]   ->  [1 2 1]\n",
      "mat[0,:]   -> [1 5 2 7]\n",
      "mat[0:2,:] ->\n",
      " [[1 5 2 7]\n",
      " [2 7 3 2]]\n",
      "mat[:,0:2] ->\n",
      " [[1 5]\n",
      " [2 7]\n",
      " [1 5]]\n",
      "mat[-1]    -> [1 5 2 1]\n"
     ]
    }
   ],
   "source": [
    "mat = np.array(([1,5,2,7],[2,7,3,2],[1,5,2,1])) \n",
    "print(\"Matrice:\\n\",mat,mat.shape) #matrice 3 x 4\n",
    "print(\"mat[2][1]  ->\",mat[2][1]) #terza riga, seconda colonna\n",
    "print(\"mat[0,0]   ->\",mat[0,0]) #prima riga, prima colonna (notazione più compatta)\n",
    "\n",
    "print(\"mat[0]     -> \",mat[0]) #restituisce l'intera prima riga della matrice\n",
    "print(\"mat[:,0]   -> \",mat[:,0]) #restituisce la prima colonna della matrice. \n",
    "                                #I due punti \":\" significano \"lascia tutto inalterato lungo questa dimensione\"\n",
    "print(\"mat[0,:]   ->\",mat[0,:]) #notazione alternativa per ottenere la prima riga della matrice\n",
    "print(\"mat[0:2,:] ->\\n\",mat[0:2,:]) #prime due righe\n",
    "print(\"mat[:,0:2] ->\\n\",mat[:,0:2]) #prime due colonne\n",
    "print(\"mat[-1]    ->\",mat[-1]) #ultima riga"
   ]
  },
  {
   "cell_type": "markdown",
   "metadata": {},
   "source": [
    "Caso di tensori a più dimensioni:"
   ]
  },
  {
   "cell_type": "code",
   "execution_count": 153,
   "metadata": {},
   "outputs": [
    {
     "name": "stdout",
     "output_type": "stream",
     "text": [
      "mat[:,:,0] -> [['1' 'a']\n",
      " ['5' 'a']\n",
      " ['7' 'a']\n",
      " ['0' 'a']]\n",
      "mat[:,:,1] -> [['2' 'b']\n",
      " ['4' 'b']\n",
      " ['5' 'b']\n",
      " ['2' 'b']]\n",
      "mat[...,0] -> [['1' 'a']\n",
      " ['5' 'a']\n",
      " ['7' 'a']\n",
      " ['0' 'a']]\n",
      "mat[...,1] -> [['2' 'b']\n",
      " ['4' 'b']\n",
      " ['5' 'b']\n",
      " ['2' 'b']]\n"
     ]
    }
   ],
   "source": [
    "mat=np.array([[[1,2,3,4],['a','b','c','d']],\n",
    "              [[5,4,2,3],['a','b','c','d']],\n",
    "              [[7,5,3,2],['a','b','c','d']],\n",
    "              [[0,2,3,1],['a','b','c','d']]]) \n",
    "print(\"mat[:,:,0] ->\", mat[:,:,0]) #matrice contenuta nel \"primo canale\" del tensore\n",
    "print(\"mat[:,:,1] ->\",mat[:,:,1]) #matrice contenuta nel \"secondo canale\" del tensore\n",
    "print(\"mat[...,0] ->\", mat[...,0]) #matrice contenuta nel \"primo canale\" del tensore (notazione alternativa)\n",
    "print(\"mat[...,1] ->\",mat[...,1]) #matrice contenuta nel \"secondo canale\" del tensore (notazione alternativa)\n",
    "#la notazione \"...\" serve a dire \"lascia tutto invariato lungo le dimensioni omesse\""
   ]
  },
  {
   "cell_type": "markdown",
   "metadata": {},
   "source": [
    "In genere, quando da un array si estrae un sottoinsieme di dati, si parla di **slicing**."
   ]
  },
  {
   "cell_type": "markdown",
   "metadata": {},
   "source": [
    "> **🙋‍♂️ Domanda 6**\n",
    "> \n",
    "> Le liste di Python non supportano lo slicing. Come si può implementare una istruzione del tipo `a[2:8:2]` utilizzando le liste di Python?"
   ]
  },
  {
   "cell_type": "markdown",
   "metadata": {},
   "source": [
    "## Indicizzazione e Slicing Logici\n",
    "\n",
    "In numpy è inoltre possibile indicizzare gli array in maniera \"logica\", ovvero passando come indici un array di valori booleani. Ad esempio, se vogliamo selezionare il primo e il terzo valore di un array, dobbiamo passare come indici l'array `[True, False, True]`:"
   ]
  },
  {
   "cell_type": "code",
   "execution_count": 154,
   "metadata": {},
   "outputs": [
    {
     "name": "stdout",
     "output_type": "stream",
     "text": [
      "[1 3]\n",
      "[2]\n"
     ]
    }
   ],
   "source": [
    "x = np.array([1,2,3])\n",
    "print(x[np.array([True,False,True])]) #per selezionare solo 1 e 3\n",
    "print(x[np.array([False,True,False])]) #per selezionare solo 2"
   ]
  },
  {
   "cell_type": "markdown",
   "metadata": {},
   "source": [
    "L'indicizzazione logica è molto utile se combinata alla possibilità di costruire array logici \"al volo\" specificando una condizione che gli elementi di un array possono o non possono soddisfare. Ad esempio:"
   ]
  },
  {
   "cell_type": "code",
   "execution_count": 155,
   "metadata": {},
   "outputs": [
    {
     "name": "stdout",
     "output_type": "stream",
     "text": [
      "[0 1 2 3 4 5 6 7 8 9]\n",
      "[False False False  True  True  True  True  True  True  True]\n",
      "[False False False  True False False False False False False]\n"
     ]
    }
   ],
   "source": [
    "x = np.arange(10)\n",
    "print(x)\n",
    "print(x>2) #genera un array di valori booleani\n",
    "#che conterrà True in presenza dei valori di x\n",
    "#che verificano la condizione x>2\n",
    "print(x==3) #True solo in presenza del valore 3"
   ]
  },
  {
   "cell_type": "markdown",
   "metadata": {},
   "source": [
    "Unendo questi due principi, è semplice selezionare solo alcuni valori da un array, sulla base di una condizione:"
   ]
  },
  {
   "cell_type": "code",
   "execution_count": 156,
   "metadata": {},
   "outputs": [
    {
     "name": "stdout",
     "output_type": "stream",
     "text": [
      "[0 2 4 6 8]\n",
      "[1 3 5 7 9]\n",
      "[3 4 5 6 7 8 9]\n"
     ]
    }
   ],
   "source": [
    "x = np.arange(10)\n",
    "print(x[x%2==0]) #seleziona i valori pari\n",
    "print(x[x%2!=0]) #seleziona i valori dispari\n",
    "print(x[x>2]) #seleziona i valori maggiori di 2"
   ]
  },
  {
   "cell_type": "markdown",
   "metadata": {},
   "source": [
    "> **🙋‍♂️ Domanda 7**\n",
    "> \n",
    "> Si considerino i due array `a=np.array([1,2,3])` e `b=np.array([5,2,4])`. Si utilizzi l'indicizzazione logica per estrarre i numeri in `a` che si trovano in posizioni contenenti valori pari in `b`."
   ]
  },
  {
   "cell_type": "markdown",
   "metadata": {},
   "source": [
    "## Reshape\n",
    "In alcuni casi può essere utile cambiare la \"shape\" di una matrice. Ad esempio, una matrice 3x2 può essere modificata riarrangiando gli elementi in modo da ottenere una matrice 2x3, una matrice 1x6 o una matrice 6x1. Ciò si può fare mediante il metodo \"reshape\":"
   ]
  },
  {
   "cell_type": "code",
   "execution_count": 157,
   "metadata": {},
   "outputs": [
    {
     "name": "stdout",
     "output_type": "stream",
     "text": [
      "[[1 2]\n",
      " [3 4]\n",
      " [5 6]]\n",
      "[[1 2 3]\n",
      " [4 5 6]]\n",
      "[[1 2 3 4 5 6]]\n",
      "[[1]\n",
      " [2]\n",
      " [3]\n",
      " [4]\n",
      " [5]\n",
      " [6]]\n",
      "[1 2 3 4 5 6]\n",
      "[1 2 3 4 5 6]\n"
     ]
    }
   ],
   "source": [
    "mat = np.array([[1,2],[3,4],[5,6]])\n",
    "print(mat)\n",
    "print(mat.reshape(2,3))\n",
    "print(mat.reshape(1,6))\n",
    "print(mat.reshape(6,1)) #matrice 6 x 1\n",
    "print(mat.reshape(6)) #vettore unidimensionale\n",
    "print(mat.ravel())#equivalente al precedente, ma aparametrico"
   ]
  },
  {
   "cell_type": "markdown",
   "metadata": {},
   "source": [
    "Notiamo che, se leggiamo per righe (da sinistra verso destra, dall'alto verso il basso), l'ordine degli elementi resta immutato. Possiamo anche lascire che numpy clacoli una delle dimensioni sostituendola con -1:"
   ]
  },
  {
   "cell_type": "code",
   "execution_count": 158,
   "metadata": {},
   "outputs": [
    {
     "name": "stdout",
     "output_type": "stream",
     "text": [
      "[[1 2 3]\n",
      " [4 5 6]]\n",
      "[[1 2 3 4 5 6]]\n"
     ]
    }
   ],
   "source": [
    "print(mat.reshape(2,-1))\n",
    "print(mat.reshape(-1,6))"
   ]
  },
  {
   "cell_type": "markdown",
   "metadata": {},
   "source": [
    "Reshape può prendere in input le singole dimensioni o una tupla contenente la shape. Nell'ultimo caso, risulta comodo fare operazioni di questo genere:"
   ]
  },
  {
   "cell_type": "code",
   "execution_count": 159,
   "metadata": {},
   "outputs": [
    {
     "name": "stdout",
     "output_type": "stream",
     "text": [
      "[[0.72904971 0.43857224]\n",
      " [0.0596779  0.39804426]\n",
      " [0.73799541 0.18249173]]\n"
     ]
    }
   ],
   "source": [
    "mat1 = np.random.rand(3,2)\n",
    "mat2 = np.random.rand(2,3)\n",
    "print(mat2.reshape(mat1.shape)) #diamo a mat2 la stessa shape di mat1"
   ]
  },
  {
   "cell_type": "markdown",
   "metadata": {},
   "source": [
    "## Composizione di Array Mediante `concatenate` e `stack`\n",
    "Numpy permette di unire diversi array mediante due principali funzioni: `concatenate` e `vstack`. La funzione `concatenate` prende in input una lista (o tupla) di array e permette di concatenarli lungo una dimensione (`axis`) esistente specificata, che di default è pari a zero (concatenazione per righe):"
   ]
  },
  {
   "cell_type": "code",
   "execution_count": 160,
   "metadata": {},
   "outputs": [
    {
     "name": "stdout",
     "output_type": "stream",
     "text": [
      "[[0 1 2]\n",
      " [3 4 5]\n",
      " [6 7 8]] (3, 3) \n",
      "\n",
      "[[0 1 2]\n",
      " [3 4 5]\n",
      " [6 7 8]\n",
      " [0 1 2]\n",
      " [3 4 5]\n",
      " [6 7 8]] (6, 3) \n",
      "\n",
      "[[0 1 2]\n",
      " [3 4 5]\n",
      " [6 7 8]\n",
      " [0 1 2]\n",
      " [3 4 5]\n",
      " [6 7 8]\n",
      " [0 1 2]\n",
      " [3 4 5]\n",
      " [6 7 8]] (9, 3)\n"
     ]
    }
   ],
   "source": [
    "a=np.arange(9).reshape(3,3)\n",
    "print(a,a.shape,\"\\n\")\n",
    "cat=np.concatenate([a,a])\n",
    "print(cat,cat.shape,\"\\n\")\n",
    "cat2=np.concatenate([a,a,a])\n",
    "print(cat2,cat2.shape)"
   ]
  },
  {
   "cell_type": "markdown",
   "metadata": {},
   "source": [
    "E' possibile concatenare array su una dimensione diversa specificandola mediante il parametro `axis`:"
   ]
  },
  {
   "cell_type": "code",
   "execution_count": 161,
   "metadata": {},
   "outputs": [
    {
     "name": "stdout",
     "output_type": "stream",
     "text": [
      "[[0 1 2]\n",
      " [3 4 5]\n",
      " [6 7 8]] (3, 3) \n",
      "\n",
      "[[0 1 2 0 1 2]\n",
      " [3 4 5 3 4 5]\n",
      " [6 7 8 6 7 8]] (3, 6) \n",
      "\n",
      "[[0 1 2 0 1 2 0 1 2]\n",
      " [3 4 5 3 4 5 3 4 5]\n",
      " [6 7 8 6 7 8 6 7 8]] (3, 9)\n"
     ]
    }
   ],
   "source": [
    "a=np.arange(9).reshape(3,3)\n",
    "print(a,a.shape,\"\\n\")\n",
    "cat=np.concatenate([a,a], axis=1) #concatenazione per colonne\n",
    "print(cat,cat.shape,\"\\n\")\n",
    "cat2=np.concatenate([a,a,a], axis=1) #concatenazione per colonne\n",
    "print(cat2,cat2.shape)"
   ]
  },
  {
   "cell_type": "markdown",
   "metadata": {},
   "source": [
    "Affinché la concatenazione sia compatibile, gli array della lista devono avere lo stesso numero di dimensioni lungo quelle che **non vengono concatenate**:"
   ]
  },
  {
   "cell_type": "code",
   "execution_count": 163,
   "metadata": {},
   "outputs": [
    {
     "name": "stdout",
     "output_type": "stream",
     "text": [
      "(3, 6) (3, 3)\n"
     ]
    }
   ],
   "source": [
    "print(cat.shape,a.shape) #concatenazione lungo l'asse 0, le dimensioni lungo gli altri assi devono essere uguali"
   ]
  },
  {
   "cell_type": "markdown",
   "metadata": {},
   "source": [
    "```python\n",
    "np.concatenate([cat,a], axis=0) #concatenazione per colonne #errore!\n",
    "```"
   ]
  },
  {
   "cell_type": "markdown",
   "metadata": {},
   "source": [
    "La funzione `stack`, a differenza di `concatenate` permette di concatenare array lungo una nuova dimensione. Si confrontino gli output delle due funzioni:"
   ]
  },
  {
   "cell_type": "code",
   "execution_count": 164,
   "metadata": {},
   "outputs": [
    {
     "name": "stdout",
     "output_type": "stream",
     "text": [
      "[[0 1 2]\n",
      " [3 4 5]\n",
      " [6 7 8]\n",
      " [0 1 2]\n",
      " [3 4 5]\n",
      " [6 7 8]] (6, 3)\n",
      "[[[0 1 2]\n",
      "  [3 4 5]\n",
      "  [6 7 8]]\n",
      "\n",
      " [[0 1 2]\n",
      "  [3 4 5]\n",
      "  [6 7 8]]] (2, 3, 3)\n"
     ]
    }
   ],
   "source": [
    "cat=np.concatenate([a,a])\n",
    "print(cat,cat.shape)\n",
    "stack=np.stack([a,a])\n",
    "print(stack,stack.shape)"
   ]
  },
  {
   "cell_type": "markdown",
   "metadata": {},
   "source": [
    "Nel caso di `stack`, gli array sono stati concatenati lungo una nuova dimensione. E' possibile specificare dimensioni alternative come nel caso di `concatenate`:"
   ]
  },
  {
   "cell_type": "code",
   "execution_count": 165,
   "metadata": {},
   "outputs": [
    {
     "name": "stdout",
     "output_type": "stream",
     "text": [
      "[[[0 1 2]\n",
      "  [0 1 2]]\n",
      "\n",
      " [[3 4 5]\n",
      "  [3 4 5]]\n",
      "\n",
      " [[6 7 8]\n",
      "  [6 7 8]]] (3, 2, 3)\n"
     ]
    }
   ],
   "source": [
    "stack=np.stack([a,a],axis=1)\n",
    "print(stack,stack.shape)"
   ]
  },
  {
   "cell_type": "markdown",
   "metadata": {},
   "source": [
    "In questo caso, gli array sono stati concatenati lungo la seconda dimensione."
   ]
  },
  {
   "cell_type": "code",
   "execution_count": 166,
   "metadata": {},
   "outputs": [
    {
     "name": "stdout",
     "output_type": "stream",
     "text": [
      "[[[0 0]\n",
      "  [1 1]\n",
      "  [2 2]]\n",
      "\n",
      " [[3 3]\n",
      "  [4 4]\n",
      "  [5 5]]\n",
      "\n",
      " [[6 6]\n",
      "  [7 7]\n",
      "  [8 8]]] (3, 3, 2)\n"
     ]
    }
   ],
   "source": [
    "stack=np.stack([a,a],axis=2)\n",
    "print(stack,stack.shape)"
   ]
  },
  {
   "cell_type": "markdown",
   "metadata": {},
   "source": [
    "In questo caso, gli array sono stati concatenati lungo l'ultima dimensione."
   ]
  },
  {
   "cell_type": "markdown",
   "metadata": {},
   "source": [
    "## Tipi\n",
    "Ogni array di numpy ha il suo tipo (si veda https://docs.scipy.org/doc/numpy-1.13.0/user/basics.types.html per la lista di tipi supportati). Possiamo vedere il tipo di un array ispezionando la proprietà dtype:"
   ]
  },
  {
   "cell_type": "code",
   "execution_count": 167,
   "metadata": {},
   "outputs": [
    {
     "name": "stdout",
     "output_type": "stream",
     "text": [
      "float64\n"
     ]
    }
   ],
   "source": [
    "print(mat1.dtype)"
   ]
  },
  {
   "cell_type": "markdown",
   "metadata": {},
   "source": [
    "Possiamo specificare il tipo in fase di costruzione dell'array:"
   ]
  },
  {
   "cell_type": "code",
   "execution_count": 168,
   "metadata": {},
   "outputs": [
    {
     "name": "stdout",
     "output_type": "stream",
     "text": [
      "int64\n"
     ]
    }
   ],
   "source": [
    "mat = np.array([[1,2,3],[4,5,6]],int)\n",
    "print(mat.dtype)"
   ]
  },
  {
   "cell_type": "markdown",
   "metadata": {},
   "source": [
    "Possiamo inoltre cambiare il tipo di un array al volo utilizzando `astype`. Questo è comodo ad esempio se vogliamo effettuare una divisione non intera:"
   ]
  },
  {
   "cell_type": "code",
   "execution_count": 169,
   "metadata": {},
   "outputs": [
    {
     "name": "stdout",
     "output_type": "stream",
     "text": [
      "[[0.5 1.  1.5]\n",
      " [2.  2.5 3. ]]\n",
      "[[0.5 1.  1.5]\n",
      " [2.  2.5 3. ]]\n"
     ]
    }
   ],
   "source": [
    "print(mat/2)\n",
    "print(mat.astype(float)/2)"
   ]
  },
  {
   "cell_type": "markdown",
   "metadata": {},
   "source": [
    "## Gestione della Memoria in Numpy\n",
    "Numpy gestisce la memoria in maniera dinamica per questioni di efficienza. Pertanto, un assegnamento o una operazione di slicing, in genere **non creano una nuova copia dei dati**. Si consideri ad esempio questo codice:"
   ]
  },
  {
   "cell_type": "code",
   "execution_count": 170,
   "metadata": {},
   "outputs": [
    {
     "name": "stdout",
     "output_type": "stream",
     "text": [
      "[[1 2 3]\n",
      " [4 5 6]]\n",
      "[1 2]\n"
     ]
    }
   ],
   "source": [
    "a=np.array([[1,2,3],[4,5,6]])\n",
    "print(a)\n",
    "b=a[0,0:2]\n",
    "print(b)"
   ]
  },
  {
   "cell_type": "markdown",
   "metadata": {},
   "source": [
    "L'operazione di slicing `b=a[0,0:2]` ha solo permesso di ottenere una nuova \"vista\" di una parte di `a`, ma i dati non sono stati replicati in memoria. Pertanto, se modifichiamo un elemento di b, la modifica verrà applicata in realtà ad `a`:"
   ]
  },
  {
   "cell_type": "code",
   "execution_count": 171,
   "metadata": {},
   "outputs": [
    {
     "name": "stdout",
     "output_type": "stream",
     "text": [
      "[-1  2]\n",
      "[[-1  2  3]\n",
      " [ 4  5  6]]\n"
     ]
    }
   ],
   "source": [
    "b[0]=-1\n",
    "print(b)\n",
    "print(a)"
   ]
  },
  {
   "cell_type": "markdown",
   "metadata": {},
   "source": [
    "Per evitare questo genere di comportamenti, è possibile utilizzare il metodo `copy` che forza numpy a creare una nuova copia dei dati:"
   ]
  },
  {
   "cell_type": "code",
   "execution_count": 172,
   "metadata": {},
   "outputs": [
    {
     "name": "stdout",
     "output_type": "stream",
     "text": [
      "[[1 2 3]\n",
      " [4 5 6]]\n",
      "[1 2]\n",
      "[-1  2]\n",
      "[[1 2 3]\n",
      " [4 5 6]]\n"
     ]
    }
   ],
   "source": [
    "a=np.array([[1,2,3],[4,5,6]])\n",
    "print(a)\n",
    "b=a[0,0:2].copy()\n",
    "\n",
    "print(b)\n",
    "b[0]=-1\n",
    "print(b)\n",
    "print(a)"
   ]
  },
  {
   "cell_type": "markdown",
   "metadata": {},
   "source": [
    "In questa nuova versione del codice, `a` non viene più modificato alla modifica di `b`."
   ]
  },
  {
   "cell_type": "markdown",
   "metadata": {},
   "source": [
    "## Broadcasting\n",
    "Numpy gestisce in maniera intelligente le operazioni tra array che presentano shape diverse sotto determinate condizioni. Vediamo un esempio pratico: supponiamo di avere una matrice $2\\times3$ e un array $1\\times3$:"
   ]
  },
  {
   "cell_type": "code",
   "execution_count": 174,
   "metadata": {},
   "outputs": [
    {
     "name": "stdout",
     "output_type": "stream",
     "text": [
      "[[1. 2. 3.]\n",
      " [4. 5. 6.]]\n",
      "[2 3 8]\n"
     ]
    }
   ],
   "source": [
    "mat=np.array([[1,2,3],[4,5,6]],dtype=float)\n",
    "arr=np.array([2,3,8])\n",
    "print(mat)\n",
    "print(arr)"
   ]
  },
  {
   "cell_type": "markdown",
   "metadata": {},
   "source": [
    "Supponiamo adesso di voler dividere, elemento per elemento, tutti i valori di ogni riga della matrice per i valori dell'array. Possiamo eseguire l'operazione richiesta mediante un ciclo for:"
   ]
  },
  {
   "cell_type": "code",
   "execution_count": 175,
   "metadata": {},
   "outputs": [
    {
     "name": "stdout",
     "output_type": "stream",
     "text": [
      "[[0.5        0.66666667 0.375     ]\n",
      " [2.         1.66666667 0.75      ]]\n"
     ]
    }
   ],
   "source": [
    "mat2=mat.copy() #copia il contenuto della matrice per non sovrascriverla\n",
    "for i in range(mat2.shape[0]):#indicizza le righe\n",
    "    mat2[i]=mat2[i]/arr\n",
    "print(mat2)"
   ]
  },
  {
   "cell_type": "code",
   "execution_count": 176,
   "metadata": {},
   "outputs": [
    {
     "data": {
      "text/plain": [
       "(3,)"
      ]
     },
     "execution_count": 176,
     "metadata": {},
     "output_type": "execute_result"
    }
   ],
   "source": [
    "arr.shape"
   ]
  },
  {
   "cell_type": "markdown",
   "metadata": {},
   "source": [
    "Se non volessimo utilizzare cicli for, potremmo replicare _arr_ in modo da ottenere una matrice $2 \\times 3$ e poi effettuare una semplice divisione elemento per elemento:"
   ]
  },
  {
   "cell_type": "code",
   "execution_count": 177,
   "metadata": {},
   "outputs": [
    {
     "name": "stdout",
     "output_type": "stream",
     "text": [
      "[[2 3 8]\n",
      " [2 3 8]]\n",
      "[[0.5        0.66666667 0.375     ]\n",
      " [2.         1.66666667 0.75      ]]\n"
     ]
    }
   ],
   "source": [
    "arr2=np.stack([arr,arr])\n",
    "print(arr2)\n",
    "\n",
    "print(mat/arr2)"
   ]
  },
  {
   "cell_type": "markdown",
   "metadata": {},
   "source": [
    "Lo stesso risultato si può ottenere semplicemente chiedendo a numpy di dividere mat per arr:"
   ]
  },
  {
   "cell_type": "code",
   "execution_count": 178,
   "metadata": {},
   "outputs": [
    {
     "name": "stdout",
     "output_type": "stream",
     "text": [
      "[[0.5        0.66666667 0.375     ]\n",
      " [2.         1.66666667 0.75      ]]\n"
     ]
    }
   ],
   "source": [
    "print(mat/arr)"
   ]
  },
  {
   "cell_type": "markdown",
   "metadata": {},
   "source": [
    "Ciò avviene in quanto **numpy** confronta le dimensioni dei due operandi ($2 \\times 3$ e $1 \\times 3$) e adatta l'operando con shape più piccola a quello con shape più grande, replicandone gli elementi lungo la dimensione unitaria (la prima). Il broadcasting in pratica generalizza le operazioni tra scalari e vettori/matrici del tipo:"
   ]
  },
  {
   "cell_type": "code",
   "execution_count": 179,
   "metadata": {},
   "outputs": [
    {
     "name": "stdout",
     "output_type": "stream",
     "text": [
      "[[ 2.  4.  6.]\n",
      " [ 8. 10. 12.]]\n",
      "[ 4  6 16]\n"
     ]
    }
   ],
   "source": [
    "print(2*mat)\n",
    "print(2*arr)"
   ]
  },
  {
   "cell_type": "markdown",
   "metadata": {},
   "source": [
    "In generale, quando vengono effettuate operazioni tra due array, numpy compara le shape dimensione per dimensione, dall'ultima alla prima. Due dimensioni sono compatibili se:\n",
    " * Sono uguali;\n",
    " * Una di loro è uguale a uno.\n",
    "\n",
    "Inoltre, le due shape non devono avere necessariamente lo stesso numero di dimensioni.\n",
    " \n",
    "Ad esempio, le seguenti shape sono compatibili:\n",
    "\n",
    " $$\n",
    " 2 \\times 3 \\times 5 \\\\\n",
    " 2 \\times 3 \\times 5\n",
    " $$\n",
    " \n",
    " $$\n",
    " 2 \\times 3 \\times 5 \\\\\n",
    " 2 \\times 1 \\times 5\n",
    " $$\n",
    " \n",
    " $$\n",
    " 2 \\times 3 \\times 5 \\\\\n",
    " 3 \\times 5\n",
    " $$\n",
    " \n",
    " $$\n",
    " 2 \\times 3 \\times 5 \\\\\n",
    " 3 \\times 1\n",
    " $$\n",
    " \n",
    "Vediamo altri esempi di broadcasting:"
   ]
  },
  {
   "cell_type": "code",
   "execution_count": 180,
   "metadata": {},
   "outputs": [
    {
     "name": "stdout",
     "output_type": "stream",
     "text": [
      "Mat1 shape (2, 2, 3)\n",
      "Mat2 shape (2, 3)\n",
      "\n",
      "Mat1\n",
      " [[[1 3 5]\n",
      "  [7 6 2]]\n",
      "\n",
      " [[6 5 2]\n",
      "  [8 9 9]]]\n",
      "\n",
      "Mat2\n",
      " [[2 1 3]\n",
      " [7 6 2]]\n",
      "\n",
      "Mat1*Mat2\n",
      " [[[ 2  3 15]\n",
      "  [49 36  4]]\n",
      "\n",
      " [[12  5  6]\n",
      "  [56 54 18]]]\n"
     ]
    }
   ],
   "source": [
    "mat1=np.array([[[1,3,5],[7,6,2]],[[6,5,2],[8,9,9]]])\n",
    "mat2=np.array([[2,1,3],[7,6,2]])\n",
    "print(\"Mat1 shape\",mat1.shape)\n",
    "print(\"Mat2 shape\",mat2.shape)\n",
    "print()\n",
    "print(\"Mat1\\n\",mat1)\n",
    "print()\n",
    "print(\"Mat2\\n\",mat2)\n",
    "print()\n",
    "print(\"Mat1*Mat2\\n\",mat1*mat2)"
   ]
  },
  {
   "cell_type": "markdown",
   "metadata": {},
   "source": [
    "Il prodotto tra i due tensori è stato effettuato moltiplicando le matrici bidimensionali `mat1[0,...]` e `mat2[0,...]` per `mat2`. Ciò è equivalente a ripetere gli elementi di `mat2` lungo la dimensione mancante ed effettuare un prodotto punto a punto tra `mat1` e la versione adattata di `mat2`."
   ]
  },
  {
   "cell_type": "code",
   "execution_count": 181,
   "metadata": {},
   "outputs": [
    {
     "name": "stdout",
     "output_type": "stream",
     "text": [
      "Mat1 shape (2, 2, 3)\n",
      "Mat2 shape (2, 1, 3)\n",
      "\n",
      "Mat1\n",
      " [[[1 3 5]\n",
      "  [7 6 2]]\n",
      "\n",
      " [[6 5 2]\n",
      "  [8 9 9]]]\n",
      "\n",
      "Mat2\n",
      " [[[1 3 5]]\n",
      "\n",
      " [[6 5 2]]]\n",
      "\n",
      "Mat1*Mat2\n",
      " [[[ 1  9 25]\n",
      "  [ 7 18 10]]\n",
      "\n",
      " [[36 25  4]\n",
      "  [48 45 18]]]\n"
     ]
    }
   ],
   "source": [
    "mat1=np.array([[[1,3,5],[7,6,2]],[[6,5,2],[8,9,9]]])\n",
    "mat2=np.array([[[1,3,5]],[[6,5,2]]])\n",
    "print(\"Mat1 shape\",mat1.shape)\n",
    "print(\"Mat2 shape\",mat2.shape)\n",
    "print()\n",
    "print(\"Mat1\\n\",mat1)\n",
    "print()\n",
    "print(\"Mat2\\n\",mat2)\n",
    "print()\n",
    "print(\"Mat1*Mat2\\n\",mat1*mat2)"
   ]
  },
  {
   "cell_type": "markdown",
   "metadata": {},
   "source": [
    "In questo caso, il prodotto tra i due tensori è stato ottenuto moltiplicando tutte le righe delle matrici bidimensionali `mat1[0,...]` per `mat2[0]` (prima riga di mat2) e tutte le righe delle matrici bidimensionali `mat1[1,...]` per `mat2[1]` (seconda riga di mat2). Ciò è equivalente a ripetere tutti gli elementi di `mat2` lungo la seconda dimensione (quella contenente $1$) ed effettuare un prodotto punto a punto tra `mat1` e la versione adattata di `mat2`."
   ]
  },
  {
   "cell_type": "markdown",
   "metadata": {},
   "source": [
    "## Esercizi"
   ]
  },
  {
   "cell_type": "markdown",
   "metadata": {},
   "source": [
    "> 🧑‍💻 Esercizio 1\n",
    "> \n",
    "> Definire una matrice 3x4, poi:\n",
    "> * Stampare la prima riga della matrice;\n",
    "> * Stampare la seconda colonna della matrice;\n",
    "> * Sommare la prima e l'ultima colonna della matrice;\n",
    "> * Sommare gli elementi lungo la diagonale principale;\n",
    "> * Stampare il numero di elementi della matrice."
   ]
  },
  {
   "cell_type": "markdown",
   "metadata": {},
   "source": [
    "> 🧑‍💻 Esercizio 2\n",
    "> \n",
    "> Si generi un array di $100$ numeri compresi tra $2$ e $4$ e si calcoli la somma degli elementi i cui quadrati hanno un valore maggiore di $8$."
   ]
  },
  {
   "cell_type": "markdown",
   "metadata": {},
   "source": [
    "> 🧑‍💻 Esercizio 3\n",
    "> \n",
    "> Si generi la seguente matrice scrivendo la minore quantità di codice possibile:\n",
    "> \n",
    "> ```\n",
    "> 0 1 2\n",
    "> 3 4 5\n",
    "> 6 7 8\n",
    "> ```\n",
    "> \n",
    "> Si ripeta l'esercizio generando una matrice $25 \\times 13$ dello stesso tipo."
   ]
  }
 ],
 "metadata": {
  "anaconda-cloud": {},
  "kernelspec": {
   "display_name": "Python 3",
   "language": "python",
   "name": "python3"
  },
  "language_info": {
   "codemirror_mode": {
    "name": "ipython",
    "version": 3
   },
   "file_extension": ".py",
   "mimetype": "text/x-python",
   "name": "python",
   "nbconvert_exporter": "python",
   "pygments_lexer": "ipython3",
   "version": "3.11.4"
  }
 },
 "nbformat": 4,
 "nbformat_minor": 1
}
