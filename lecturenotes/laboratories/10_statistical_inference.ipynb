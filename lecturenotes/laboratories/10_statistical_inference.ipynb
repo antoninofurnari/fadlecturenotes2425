{
 "cells": [
  {
   "cell_type": "markdown",
   "metadata": {},
   "source": [
    "# Laboratory on Statistical Inference\n",
    "In this laboratory, we will see the main tools to perform statistical inference. We will contextualize better these tools with real data analysis later.\n",
    "\n",
    "## Sampling\n",
    "In Python we can easily sample from known distributions using numpy `random` module, as shown in the example below:"
   ]
  },
  {
   "cell_type": "code",
   "execution_count": 3,
   "metadata": {},
   "outputs": [
    {
     "data": {
      "image/png": "[encoded data removed]",
      "text/plain": [
       "<Figure size 1080x216 with 5 Axes>"
      ]
     },
     "metadata": {
      "needs_background": "light"
     },
     "output_type": "display_data"
    }
   ],
   "source": [
    "import numpy as np\n",
    "import matplotlib.pyplot as plt\n",
    "\n",
    "# Set the sample size\n",
    "sample_size = 1000\n",
    "\n",
    "# Sample from the Normal (Gaussian) Distribution\n",
    "mean_normal = 0\n",
    "std_dev_normal = 1\n",
    "samples_normal = np.random.normal(mean_normal, std_dev_normal, sample_size)\n",
    "\n",
    "# Sample from the Exponential Distribution\n",
    "rate_exponential = 0.5\n",
    "samples_exponential = np.random.exponential(1/rate_exponential, sample_size)\n",
    "\n",
    "# Sample from the Uniform Distribution\n",
    "low_uniform = 0\n",
    "high_uniform = 1\n",
    "samples_uniform = np.random.uniform(low_uniform, high_uniform, sample_size)\n",
    "\n",
    "# Sample from the Laplace Distribution\n",
    "loc_laplace = 0\n",
    "scale_laplace = 1\n",
    "samples_laplace = np.random.laplace(loc_laplace, scale_laplace, sample_size)\n",
    "\n",
    "# Sample from the Poisson Distribution\n",
    "lam_poisson = 3\n",
    "samples_poisson = np.random.poisson(lam_poisson, sample_size)\n",
    "\n",
    "# Create histograms to visualize the distributions\n",
    "plt.figure(figsize=(15, 3))\n",
    "\n",
    "plt.subplot(1, 5, 1)\n",
    "plt.hist(samples_normal, bins=30, color='blue', alpha=0.7)\n",
    "plt.title('Normal Distribution')\n",
    "\n",
    "plt.subplot(1, 5, 2)\n",
    "plt.hist(samples_exponential, bins=30, color='green', alpha=0.7)\n",
    "plt.title('Exponential Distribution')\n",
    "\n",
    "plt.subplot(1, 5, 3)\n",
    "plt.hist(samples_uniform, bins=30, color='red', alpha=0.7)\n",
    "plt.title('Uniform Distribution')\n",
    "\n",
    "plt.subplot(1, 5, 4)\n",
    "plt.hist(samples_laplace, bins=30, color='purple', alpha=0.7)\n",
    "plt.title('Laplace Distribution')\n",
    "\n",
    "plt.subplot(1, 5, 5)\n",
    "plt.hist(samples_poisson, bins=30, color='orange', alpha=0.7)\n",
    "plt.title('Poisson Distribution')\n",
    "\n",
    "plt.tight_layout()\n",
    "plt.show()\n"
   ]
  },
  {
   "cell_type": "markdown",
   "metadata": {},
   "source": [
    "We can also sample from an existing sample to obtain a **subsample**. This can be done starting from a dataset. For instance, let us consider the *weight-height* dataset:"
   ]
  },
  {
   "cell_type": "code",
   "execution_count": 4,
   "metadata": {},
   "outputs": [
    {
     "name": "stdout",
     "output_type": "stream",
     "text": [
      "<class 'pandas.core.frame.DataFrame'>\n",
      "RangeIndex: 4231 entries, 0 to 4230\n",
      "Data columns (total 4 columns):\n",
      " #   Column  Non-Null Count  Dtype  \n",
      "---  ------  --------------  -----  \n",
      " 0   sex     4231 non-null   object \n",
      " 1   BMI     4231 non-null   float64\n",
      " 2   height  4231 non-null   float64\n",
      " 3   weight  4231 non-null   float64\n",
      "dtypes: float64(3), object(1)\n",
      "memory usage: 132.3+ KB\n"
     ]
    },
    {
     "data": {
      "text/html": [
       "<div>\n",
       "<style scoped>\n",
       "    .dataframe tbody tr th:only-of-type {\n",
       "        vertical-align: middle;\n",
       "    }\n",
       "\n",
       "    .dataframe tbody tr th {\n",
       "        vertical-align: top;\n",
       "    }\n",
       "\n",
       "    .dataframe thead th {\n",
       "        text-align: right;\n",
       "    }\n",
       "</style>\n",
       "<table border=\"1\" class=\"dataframe\">\n",
       "  <thead>\n",
       "    <tr style=\"text-align: right;\">\n",
       "      <th></th>\n",
       "      <th>sex</th>\n",
       "      <th>BMI</th>\n",
       "      <th>height</th>\n",
       "      <th>weight</th>\n",
       "    </tr>\n",
       "  </thead>\n",
       "  <tbody>\n",
       "    <tr>\n",
       "      <th>0</th>\n",
       "      <td>M</td>\n",
       "      <td>33.36</td>\n",
       "      <td>187.96</td>\n",
       "      <td>117.933920</td>\n",
       "    </tr>\n",
       "    <tr>\n",
       "      <th>1</th>\n",
       "      <td>M</td>\n",
       "      <td>26.54</td>\n",
       "      <td>177.80</td>\n",
       "      <td>83.914520</td>\n",
       "    </tr>\n",
       "    <tr>\n",
       "      <th>2</th>\n",
       "      <td>F</td>\n",
       "      <td>32.13</td>\n",
       "      <td>154.94</td>\n",
       "      <td>77.110640</td>\n",
       "    </tr>\n",
       "    <tr>\n",
       "      <th>3</th>\n",
       "      <td>M</td>\n",
       "      <td>26.62</td>\n",
       "      <td>172.72</td>\n",
       "      <td>79.378600</td>\n",
       "    </tr>\n",
       "    <tr>\n",
       "      <th>4</th>\n",
       "      <td>F</td>\n",
       "      <td>27.13</td>\n",
       "      <td>167.64</td>\n",
       "      <td>76.203456</td>\n",
       "    </tr>\n",
       "  </tbody>\n",
       "</table>\n",
       "</div>"
      ],
      "text/plain": [
       "  sex    BMI  height      weight\n",
       "0   M  33.36  187.96  117.933920\n",
       "1   M  26.54  177.80   83.914520\n",
       "2   F  32.13  154.94   77.110640\n",
       "3   M  26.62  172.72   79.378600\n",
       "4   F  27.13  167.64   76.203456"
      ]
     },
     "execution_count": 4,
     "metadata": {},
     "output_type": "execute_result"
    }
   ],
   "source": [
    "import pandas as pd\n",
    "data=pd.read_csv('http://antoninofurnari.it/downloads/height_weight.csv')\n",
    "data.info()\n",
    "data.head()"
   ]
  },
  {
   "cell_type": "markdown",
   "metadata": {},
   "source": [
    "We can obtain a subsample of 1000 observations as follows:"
   ]
  },
  {
   "cell_type": "code",
   "execution_count": 5,
   "metadata": {},
   "outputs": [
    {
     "name": "stdout",
     "output_type": "stream",
     "text": [
      "<class 'pandas.core.frame.DataFrame'>\n",
      "Int64Index: 1000 entries, 3135 to 376\n",
      "Data columns (total 4 columns):\n",
      " #   Column  Non-Null Count  Dtype  \n",
      "---  ------  --------------  -----  \n",
      " 0   sex     1000 non-null   object \n",
      " 1   BMI     1000 non-null   float64\n",
      " 2   height  1000 non-null   float64\n",
      " 3   weight  1000 non-null   float64\n",
      "dtypes: float64(3), object(1)\n",
      "memory usage: 39.1+ KB\n"
     ]
    },
    {
     "data": {
      "text/html": [
       "<div>\n",
       "<style scoped>\n",
       "    .dataframe tbody tr th:only-of-type {\n",
       "        vertical-align: middle;\n",
       "    }\n",
       "\n",
       "    .dataframe tbody tr th {\n",
       "        vertical-align: top;\n",
       "    }\n",
       "\n",
       "    .dataframe thead th {\n",
       "        text-align: right;\n",
       "    }\n",
       "</style>\n",
       "<table border=\"1\" class=\"dataframe\">\n",
       "  <thead>\n",
       "    <tr style=\"text-align: right;\">\n",
       "      <th></th>\n",
       "      <th>sex</th>\n",
       "      <th>BMI</th>\n",
       "      <th>height</th>\n",
       "      <th>weight</th>\n",
       "    </tr>\n",
       "  </thead>\n",
       "  <tbody>\n",
       "    <tr>\n",
       "      <th>3135</th>\n",
       "      <td>M</td>\n",
       "      <td>24.02</td>\n",
       "      <td>162.56</td>\n",
       "      <td>63.50288</td>\n",
       "    </tr>\n",
       "    <tr>\n",
       "      <th>2885</th>\n",
       "      <td>M</td>\n",
       "      <td>28.90</td>\n",
       "      <td>172.72</td>\n",
       "      <td>86.18248</td>\n",
       "    </tr>\n",
       "    <tr>\n",
       "      <th>3136</th>\n",
       "      <td>M</td>\n",
       "      <td>22.80</td>\n",
       "      <td>172.72</td>\n",
       "      <td>68.03880</td>\n",
       "    </tr>\n",
       "    <tr>\n",
       "      <th>3774</th>\n",
       "      <td>M</td>\n",
       "      <td>33.50</td>\n",
       "      <td>180.34</td>\n",
       "      <td>108.86208</td>\n",
       "    </tr>\n",
       "    <tr>\n",
       "      <th>2203</th>\n",
       "      <td>M</td>\n",
       "      <td>26.52</td>\n",
       "      <td>180.34</td>\n",
       "      <td>86.18248</td>\n",
       "    </tr>\n",
       "  </tbody>\n",
       "</table>\n",
       "</div>"
      ],
      "text/plain": [
       "     sex    BMI  height     weight\n",
       "3135   M  24.02  162.56   63.50288\n",
       "2885   M  28.90  172.72   86.18248\n",
       "3136   M  22.80  172.72   68.03880\n",
       "3774   M  33.50  180.34  108.86208\n",
       "2203   M  26.52  180.34   86.18248"
      ]
     },
     "execution_count": 5,
     "metadata": {},
     "output_type": "execute_result"
    }
   ],
   "source": [
    "sample1=data.sample(1000)\n",
    "sample1.info()\n",
    "sample1.head()"
   ]
  },
  {
   "cell_type": "markdown",
   "metadata": {},
   "source": [
    "Sampling will be random. As can be seen the indexes of the rows are shuffled. By default, Pandas will sample without replacement. We can sample with replacement specifying `replace=True`. For instance, we can obtain a larger sample (with repetitions) as follows:"
   ]
  },
  {
   "cell_type": "code",
   "execution_count": 6,
   "metadata": {},
   "outputs": [
    {
     "name": "stdout",
     "output_type": "stream",
     "text": [
      "<class 'pandas.core.frame.DataFrame'>\n",
      "Int64Index: 5000 entries, 1724 to 2400\n",
      "Data columns (total 4 columns):\n",
      " #   Column  Non-Null Count  Dtype  \n",
      "---  ------  --------------  -----  \n",
      " 0   sex     5000 non-null   object \n",
      " 1   BMI     5000 non-null   float64\n",
      " 2   height  5000 non-null   float64\n",
      " 3   weight  5000 non-null   float64\n",
      "dtypes: float64(3), object(1)\n",
      "memory usage: 195.3+ KB\n"
     ]
    },
    {
     "data": {
      "text/html": [
       "<div>\n",
       "<style scoped>\n",
       "    .dataframe tbody tr th:only-of-type {\n",
       "        vertical-align: middle;\n",
       "    }\n",
       "\n",
       "    .dataframe tbody tr th {\n",
       "        vertical-align: top;\n",
       "    }\n",
       "\n",
       "    .dataframe thead th {\n",
       "        text-align: right;\n",
       "    }\n",
       "</style>\n",
       "<table border=\"1\" class=\"dataframe\">\n",
       "  <thead>\n",
       "    <tr style=\"text-align: right;\">\n",
       "      <th></th>\n",
       "      <th>sex</th>\n",
       "      <th>BMI</th>\n",
       "      <th>height</th>\n",
       "      <th>weight</th>\n",
       "    </tr>\n",
       "  </thead>\n",
       "  <tbody>\n",
       "    <tr>\n",
       "      <th>1724</th>\n",
       "      <td>M</td>\n",
       "      <td>28.24</td>\n",
       "      <td>187.96</td>\n",
       "      <td>99.79024</td>\n",
       "    </tr>\n",
       "    <tr>\n",
       "      <th>1714</th>\n",
       "      <td>M</td>\n",
       "      <td>24.43</td>\n",
       "      <td>180.34</td>\n",
       "      <td>79.37860</td>\n",
       "    </tr>\n",
       "    <tr>\n",
       "      <th>2737</th>\n",
       "      <td>F</td>\n",
       "      <td>21.93</td>\n",
       "      <td>157.48</td>\n",
       "      <td>54.43104</td>\n",
       "    </tr>\n",
       "    <tr>\n",
       "      <th>3262</th>\n",
       "      <td>F</td>\n",
       "      <td>32.13</td>\n",
       "      <td>154.94</td>\n",
       "      <td>77.11064</td>\n",
       "    </tr>\n",
       "    <tr>\n",
       "      <th>3154</th>\n",
       "      <td>M</td>\n",
       "      <td>25.81</td>\n",
       "      <td>177.80</td>\n",
       "      <td>81.64656</td>\n",
       "    </tr>\n",
       "  </tbody>\n",
       "</table>\n",
       "</div>"
      ],
      "text/plain": [
       "     sex    BMI  height    weight\n",
       "1724   M  28.24  187.96  99.79024\n",
       "1714   M  24.43  180.34  79.37860\n",
       "2737   F  21.93  157.48  54.43104\n",
       "3262   F  32.13  154.94  77.11064\n",
       "3154   M  25.81  177.80  81.64656"
      ]
     },
     "execution_count": 6,
     "metadata": {},
     "output_type": "execute_result"
    }
   ],
   "source": [
    "sample2=data.sample(5000, replace=True)\n",
    "sample2.info()\n",
    "sample2.head()"
   ]
  },
  {
   "cell_type": "markdown",
   "metadata": {},
   "source": [
    "We expect the samples to show similar distributions. Let's check it:"
   ]
  },
  {
   "cell_type": "code",
   "execution_count": 7,
   "metadata": {},
   "outputs": [
    {
     "data": {
      "image/png": "[encoded data removed]",
      "text/plain": [
       "<Figure size 864x288 with 3 Axes>"
      ]
     },
     "metadata": {
      "needs_background": "light"
     },
     "output_type": "display_data"
    }
   ],
   "source": [
    "plt.figure(figsize=(12,4))\n",
    "data.plot.box(ax=plt.subplot(131))\n",
    "plt.grid()\n",
    "sample1.plot.box(ax=plt.subplot(132))\n",
    "plt.grid()\n",
    "sample2.plot.box(ax=plt.subplot(133))\n",
    "plt.grid()"
   ]
  },
  {
   "cell_type": "markdown",
   "metadata": {},
   "source": [
    "Alternatively, we can sample using `np.random.choice`:"
   ]
  },
  {
   "cell_type": "code",
   "execution_count": 8,
   "metadata": {},
   "outputs": [
    {
     "name": "stdout",
     "output_type": "stream",
     "text": [
      "<class 'pandas.core.frame.DataFrame'>\n",
      "Int64Index: 100 entries, 217 to 708\n",
      "Data columns (total 4 columns):\n",
      " #   Column  Non-Null Count  Dtype  \n",
      "---  ------  --------------  -----  \n",
      " 0   sex     100 non-null    object \n",
      " 1   BMI     100 non-null    float64\n",
      " 2   height  100 non-null    float64\n",
      " 3   weight  100 non-null    float64\n",
      "dtypes: float64(3), object(1)\n",
      "memory usage: 3.9+ KB\n"
     ]
    },
    {
     "data": {
      "text/html": [
       "<div>\n",
       "<style scoped>\n",
       "    .dataframe tbody tr th:only-of-type {\n",
       "        vertical-align: middle;\n",
       "    }\n",
       "\n",
       "    .dataframe tbody tr th {\n",
       "        vertical-align: top;\n",
       "    }\n",
       "\n",
       "    .dataframe thead th {\n",
       "        text-align: right;\n",
       "    }\n",
       "</style>\n",
       "<table border=\"1\" class=\"dataframe\">\n",
       "  <thead>\n",
       "    <tr style=\"text-align: right;\">\n",
       "      <th></th>\n",
       "      <th>sex</th>\n",
       "      <th>BMI</th>\n",
       "      <th>height</th>\n",
       "      <th>weight</th>\n",
       "    </tr>\n",
       "  </thead>\n",
       "  <tbody>\n",
       "    <tr>\n",
       "      <th>217</th>\n",
       "      <td>F</td>\n",
       "      <td>37.11</td>\n",
       "      <td>152.40</td>\n",
       "      <td>86.182480</td>\n",
       "    </tr>\n",
       "    <tr>\n",
       "      <th>4036</th>\n",
       "      <td>F</td>\n",
       "      <td>33.28</td>\n",
       "      <td>165.10</td>\n",
       "      <td>90.718400</td>\n",
       "    </tr>\n",
       "    <tr>\n",
       "      <th>2512</th>\n",
       "      <td>F</td>\n",
       "      <td>28.01</td>\n",
       "      <td>160.02</td>\n",
       "      <td>71.667536</td>\n",
       "    </tr>\n",
       "    <tr>\n",
       "      <th>2235</th>\n",
       "      <td>F</td>\n",
       "      <td>27.45</td>\n",
       "      <td>167.64</td>\n",
       "      <td>77.110640</td>\n",
       "    </tr>\n",
       "    <tr>\n",
       "      <th>1299</th>\n",
       "      <td>M</td>\n",
       "      <td>27.30</td>\n",
       "      <td>175.26</td>\n",
       "      <td>83.914520</td>\n",
       "    </tr>\n",
       "  </tbody>\n",
       "</table>\n",
       "</div>"
      ],
      "text/plain": [
       "     sex    BMI  height     weight\n",
       "217    F  37.11  152.40  86.182480\n",
       "4036   F  33.28  165.10  90.718400\n",
       "2512   F  28.01  160.02  71.667536\n",
       "2235   F  27.45  167.64  77.110640\n",
       "1299   M  27.30  175.26  83.914520"
      ]
     },
     "execution_count": 8,
     "metadata": {},
     "output_type": "execute_result"
    }
   ],
   "source": [
    "sample3=data.iloc[np.random.choice(len(data),100, replace=False)]\n",
    "sample3.info()\n",
    "sample3.head()"
   ]
  },
  {
   "cell_type": "markdown",
   "metadata": {},
   "source": [
    "Note that, bu default `np.random.choice` will set `replace=True`. We can perform stratified sampling as follows:"
   ]
  },
  {
   "cell_type": "code",
   "execution_count": 9,
   "metadata": {},
   "outputs": [
    {
     "name": "stdout",
     "output_type": "stream",
     "text": [
      "<class 'pandas.core.frame.DataFrame'>\n",
      "Int64Index: 1000 entries, 3274 to 358\n",
      "Data columns (total 4 columns):\n",
      " #   Column  Non-Null Count  Dtype  \n",
      "---  ------  --------------  -----  \n",
      " 0   sex     1000 non-null   object \n",
      " 1   BMI     1000 non-null   float64\n",
      " 2   height  1000 non-null   float64\n",
      " 3   weight  1000 non-null   float64\n",
      "dtypes: float64(3), object(1)\n",
      "memory usage: 39.1+ KB\n"
     ]
    },
    {
     "data": {
      "text/html": [
       "<div>\n",
       "<style scoped>\n",
       "    .dataframe tbody tr th:only-of-type {\n",
       "        vertical-align: middle;\n",
       "    }\n",
       "\n",
       "    .dataframe tbody tr th {\n",
       "        vertical-align: top;\n",
       "    }\n",
       "\n",
       "    .dataframe thead th {\n",
       "        text-align: right;\n",
       "    }\n",
       "</style>\n",
       "<table border=\"1\" class=\"dataframe\">\n",
       "  <thead>\n",
       "    <tr style=\"text-align: right;\">\n",
       "      <th></th>\n",
       "      <th>sex</th>\n",
       "      <th>BMI</th>\n",
       "      <th>height</th>\n",
       "      <th>weight</th>\n",
       "    </tr>\n",
       "  </thead>\n",
       "  <tbody>\n",
       "    <tr>\n",
       "      <th>3274</th>\n",
       "      <td>F</td>\n",
       "      <td>20.58</td>\n",
       "      <td>162.56</td>\n",
       "      <td>54.43104</td>\n",
       "    </tr>\n",
       "    <tr>\n",
       "      <th>2188</th>\n",
       "      <td>F</td>\n",
       "      <td>18.87</td>\n",
       "      <td>162.56</td>\n",
       "      <td>49.89512</td>\n",
       "    </tr>\n",
       "    <tr>\n",
       "      <th>950</th>\n",
       "      <td>F</td>\n",
       "      <td>21.18</td>\n",
       "      <td>149.86</td>\n",
       "      <td>47.62716</td>\n",
       "    </tr>\n",
       "    <tr>\n",
       "      <th>2623</th>\n",
       "      <td>F</td>\n",
       "      <td>26.59</td>\n",
       "      <td>162.56</td>\n",
       "      <td>70.30676</td>\n",
       "    </tr>\n",
       "    <tr>\n",
       "      <th>2350</th>\n",
       "      <td>F</td>\n",
       "      <td>28.80</td>\n",
       "      <td>175.26</td>\n",
       "      <td>88.45044</td>\n",
       "    </tr>\n",
       "  </tbody>\n",
       "</table>\n",
       "</div>"
      ],
      "text/plain": [
       "     sex    BMI  height    weight\n",
       "3274   F  20.58  162.56  54.43104\n",
       "2188   F  18.87  162.56  49.89512\n",
       "950    F  21.18  149.86  47.62716\n",
       "2623   F  26.59  162.56  70.30676\n",
       "2350   F  28.80  175.26  88.45044"
      ]
     },
     "execution_count": 9,
     "metadata": {},
     "output_type": "execute_result"
    }
   ],
   "source": [
    "# Define the stratification variable (e.g., 'Gender')\n",
    "strata_variable = 'sex'\n",
    "\n",
    "# Number of samples per stratum\n",
    "samples_per_stratum = 500\n",
    "\n",
    "# Perform stratified sampling\n",
    "stratified_sample = data.groupby(strata_variable, group_keys=False).apply(lambda x: x.sample(samples_per_stratum))\n",
    "\n",
    "stratified_sample.info()\n",
    "stratified_sample.head()\n"
   ]
  },
  {
   "cell_type": "markdown",
   "metadata": {},
   "source": [
    "Note that, with this method, sampled observations will be sorted by `sex`. To get rid of this bias, we can shuffle the dataframe as follows:"
   ]
  },
  {
   "cell_type": "code",
   "execution_count": 10,
   "metadata": {},
   "outputs": [
    {
     "data": {
      "text/html": [
       "<div>\n",
       "<style scoped>\n",
       "    .dataframe tbody tr th:only-of-type {\n",
       "        vertical-align: middle;\n",
       "    }\n",
       "\n",
       "    .dataframe tbody tr th {\n",
       "        vertical-align: top;\n",
       "    }\n",
       "\n",
       "    .dataframe thead th {\n",
       "        text-align: right;\n",
       "    }\n",
       "</style>\n",
       "<table border=\"1\" class=\"dataframe\">\n",
       "  <thead>\n",
       "    <tr style=\"text-align: right;\">\n",
       "      <th></th>\n",
       "      <th>sex</th>\n",
       "      <th>BMI</th>\n",
       "      <th>height</th>\n",
       "      <th>weight</th>\n",
       "    </tr>\n",
       "  </thead>\n",
       "  <tbody>\n",
       "    <tr>\n",
       "      <th>2894</th>\n",
       "      <td>F</td>\n",
       "      <td>24.36</td>\n",
       "      <td>162.56</td>\n",
       "      <td>64.410064</td>\n",
       "    </tr>\n",
       "    <tr>\n",
       "      <th>2479</th>\n",
       "      <td>F</td>\n",
       "      <td>26.63</td>\n",
       "      <td>165.10</td>\n",
       "      <td>72.574720</td>\n",
       "    </tr>\n",
       "    <tr>\n",
       "      <th>275</th>\n",
       "      <td>F</td>\n",
       "      <td>29.76</td>\n",
       "      <td>170.18</td>\n",
       "      <td>86.182480</td>\n",
       "    </tr>\n",
       "    <tr>\n",
       "      <th>2394</th>\n",
       "      <td>F</td>\n",
       "      <td>22.32</td>\n",
       "      <td>162.56</td>\n",
       "      <td>58.966960</td>\n",
       "    </tr>\n",
       "    <tr>\n",
       "      <th>1125</th>\n",
       "      <td>F</td>\n",
       "      <td>22.85</td>\n",
       "      <td>160.02</td>\n",
       "      <td>58.513368</td>\n",
       "    </tr>\n",
       "  </tbody>\n",
       "</table>\n",
       "</div>"
      ],
      "text/plain": [
       "     sex    BMI  height     weight\n",
       "2894   F  24.36  162.56  64.410064\n",
       "2479   F  26.63  165.10  72.574720\n",
       "275    F  29.76  170.18  86.182480\n",
       "2394   F  22.32  162.56  58.966960\n",
       "1125   F  22.85  160.02  58.513368"
      ]
     },
     "execution_count": 10,
     "metadata": {},
     "output_type": "execute_result"
    }
   ],
   "source": [
    "stratified_sample = stratified_sample.iloc[np.random.choice(len(stratified_sample), len(stratified_sample), replace=False)]\n",
    "stratified_sample.head()"
   ]
  },
  {
   "cell_type": "markdown",
   "metadata": {},
   "source": [
    "Males and females will be perfectly balanced by design in this stratified sample:"
   ]
  },
  {
   "cell_type": "code",
   "execution_count": 11,
   "metadata": {},
   "outputs": [
    {
     "data": {
      "text/plain": [
       "F    500\n",
       "M    500\n",
       "Name: sex, dtype: int64"
      ]
     },
     "execution_count": 11,
     "metadata": {},
     "output_type": "execute_result"
    }
   ],
   "source": [
    "stratified_sample['sex'].value_counts()"
   ]
  },
  {
   "cell_type": "markdown",
   "metadata": {},
   "source": [
    "## Confidence Intervals\n",
    "Let us see how to compute confidence intervals in Python.\n",
    "\n",
    "### Confidence Intervals for Means\n",
    "We can compute confidence intervals for the estimation of means with `scipy`. Let us see how to compute confidence intervals for the mean of `height`:"
   ]
  },
  {
   "cell_type": "code",
   "execution_count": 12,
   "metadata": {},
   "outputs": [
    {
     "name": "stdout",
     "output_type": "stream",
     "text": [
      "Estimated mean: 169.89\n",
      "Standard deviation of the sample: 9.96\n",
      "Standard error of the sample: 0.15\n",
      "Confidence interval: [169.59, 170.19]\n"
     ]
    }
   ],
   "source": [
    "from scipy import stats\n",
    "mean = data['height'].mean()\n",
    "std = np.std(data['height'])\n",
    "standard_error = std/np.sqrt(len(data))\n",
    "\n",
    "confidence_level = 0.95\n",
    "\n",
    "interval = stats.norm.interval(confidence_level, loc=mean, scale=standard_error)\n",
    "\n",
    "print(f\"Estimated mean: {mean:0.2f}\")\n",
    "print(f\"Standard deviation of the sample: {std:0.2f}\")\n",
    "print(f\"Standard error of the sample: {standard_error:0.2f}\")\n",
    "print(f\"Confidence interval: [{interval[0]:0.2f}, {interval[1]:0.2f}]\")"
   ]
  },
  {
   "cell_type": "markdown",
   "metadata": {},
   "source": [
    "Let us set the confidence level to $0.99$:"
   ]
  },
  {
   "cell_type": "code",
   "execution_count": 13,
   "metadata": {},
   "outputs": [
    {
     "name": "stdout",
     "output_type": "stream",
     "text": [
      "Estimated mean: 169.89\n",
      "Standard deviation of the sample: 9.96\n",
      "Standard error of the sample: 0.15\n",
      "Confidence interval: [169.50, 170.29]\n"
     ]
    }
   ],
   "source": [
    "from scipy import stats\n",
    "mean = data['height'].mean()\n",
    "std = np.std(data['height'])\n",
    "standard_error = std/np.sqrt(len(data))\n",
    "\n",
    "confidence_level = 0.99\n",
    "\n",
    "interval = stats.norm.interval(confidence_level, loc=mean, scale=standard_error)\n",
    "\n",
    "print(f\"Estimated mean: {mean:0.2f}\")\n",
    "print(f\"Standard deviation of the sample: {std:0.2f}\")\n",
    "print(f\"Standard error of the sample: {standard_error:0.2f}\")\n",
    "print(f\"Confidence interval: [{interval[0]:0.2f}, {interval[1]:0.2f}]\")"
   ]
  },
  {
   "cell_type": "markdown",
   "metadata": {},
   "source": [
    "### Confidence Intervals for Variances\n",
    "\n",
    "To compute confidence intervals for the estimation of variances, we have to use the $\\chi^2$ distribution:"
   ]
  },
  {
   "cell_type": "code",
   "execution_count": 14,
   "metadata": {},
   "outputs": [
    {
     "name": "stdout",
     "output_type": "stream",
     "text": [
      "Sample Variance: 99.13\n",
      "Confidence Interval for Variance: (95.04, 103.49)\n"
     ]
    }
   ],
   "source": [
    "import numpy as np\n",
    "from scipy import stats\n",
    "\n",
    "# Set the desired confidence level\n",
    "confidence_level = 0.95  # Change this to the desired confidence level (e.g., 0.95 for 95% confidence)\n",
    "\n",
    "# Calculate the confidence interval for the population variance\n",
    "confidence_interval = stats.chi2.interval(confidence_level, df=len(data) - 1)\n",
    "\n",
    "# Calculate the sample variance\n",
    "sample_variance = np.var(data['height'], ddof=1)  # ddof=1 for sample variance\n",
    "\n",
    "# Calculate the lower and upper bounds of the confidence interval\n",
    "variance_lower = (len(data) - 1) * sample_variance / confidence_interval[1]\n",
    "variance_upper = (len(data) - 1) * sample_variance / confidence_interval[0]\n",
    "\n",
    "print(f\"Sample Variance: {sample_variance:.2f}\")\n",
    "print(f\"Confidence Interval for Variance: ({variance_lower:.2f}, {variance_upper:.2f})\")\n"
   ]
  },
  {
   "cell_type": "markdown",
   "metadata": {},
   "source": [
    "### Confidence Intervals for Proportion\n",
    "\n",
    "Let us see how to compute confidence intervals for the proportion of females over males:"
   ]
  },
  {
   "cell_type": "code",
   "execution_count": 15,
   "metadata": {},
   "outputs": [
    {
     "name": "stdout",
     "output_type": "stream",
     "text": [
      "Sample Proportion: 0.54\n",
      "Confidence Interval for Proportion: (0.53, 0.56)\n"
     ]
    }
   ],
   "source": [
    "import statsmodels.api as sm\n",
    "import numpy as np\n",
    "\n",
    "females = data['sex'].value_counts()['F']\n",
    "total = len(data)\n",
    "\n",
    "# Set the desired confidence level\n",
    "confidence_level = 0.95  # Change this to the desired confidence level (e.g., 0.95 for 95% confidence)\n",
    "\n",
    "# Calculate the proportion (sample proportion)\n",
    "proportion = females / total\n",
    "\n",
    "# Compute the confidence interval for the proportion\n",
    "conf_interval = sm.stats.proportion_confint(females, total, alpha=1 - confidence_level, method='normal')\n",
    "\n",
    "print(f\"Sample Proportion: {proportion:.2f}\")\n",
    "print(f\"Confidence Interval for Proportion: ({conf_interval[0]:.2f}, {conf_interval[1]:.2f})\")\n"
   ]
  },
  {
   "cell_type": "markdown",
   "metadata": {},
   "source": [
    "## Hypothesis Testing\n",
    "Let us see now the main hypothesis tests."
   ]
  },
  {
   "cell_type": "markdown",
   "metadata": {},
   "source": [
    "### One sample t-test\n",
    "This test allows to assess whether a sample has a given mean. Let us check if the average height in our dataset is equal to $170cm$:"
   ]
  },
  {
   "cell_type": "code",
   "execution_count": 16,
   "metadata": {},
   "outputs": [
    {
     "name": "stdout",
     "output_type": "stream",
     "text": [
      "Fail to reject the null hypothesis. The data does not provide enough evidence to conclude that the population mean is different from 170.\n",
      "t-statistic: -0.69\n",
      "P-value: 0.4872\n"
     ]
    }
   ],
   "source": [
    "import numpy as np\n",
    "from scipy import stats\n",
    "\n",
    "# Define the null hypothesis mean (population mean you want to test against)\n",
    "null_hypothesis_mean = 170\n",
    "\n",
    "# Perform a one-sample t-test\n",
    "t_stat, p_value = stats.ttest_1samp(data['height'], null_hypothesis_mean)\n",
    "\n",
    "# Set the desired significance level (alpha)\n",
    "alpha = 0.05\n",
    "\n",
    "# Check the p-value against the significance level\n",
    "if p_value < alpha:\n",
    "    print(f\"Reject the null hypothesis. The data provides enough evidence to conclude that the population mean is different from {null_hypothesis_mean}.\")\n",
    "else:\n",
    "    print(f\"Fail to reject the null hypothesis. The data does not provide enough evidence to conclude that the population mean is different from {null_hypothesis_mean}.\")\n",
    "\n",
    "print(f\"t-statistic: {t_stat:.2f}\")\n",
    "print(f\"P-value: {p_value:.4f}\")\n"
   ]
  },
  {
   "cell_type": "markdown",
   "metadata": {},
   "source": [
    "Let us now check if the average height is $170$ among males only:"
   ]
  },
  {
   "cell_type": "code",
   "execution_count": 17,
   "metadata": {},
   "outputs": [
    {
     "name": "stdout",
     "output_type": "stream",
     "text": [
      "Reject the null hypothesis. The data provides enough evidence to conclude that the population mean is different from 170.\n",
      "t-statistic: 45.52\n",
      "P-value: 0.0000\n"
     ]
    }
   ],
   "source": [
    "import numpy as np\n",
    "from scipy import stats\n",
    "\n",
    "# Define the null hypothesis mean (population mean you want to test against)\n",
    "null_hypothesis_mean = 170\n",
    "\n",
    "data2 = data[data['sex']=='M']\n",
    "\n",
    "# Perform a one-sample t-test\n",
    "t_stat, p_value = stats.ttest_1samp(data2['height'], null_hypothesis_mean)\n",
    "\n",
    "# Set the desired significance level (alpha)\n",
    "alpha = 0.05\n",
    "\n",
    "# Check the p-value against the significance level\n",
    "if p_value < alpha:\n",
    "    print(f\"Reject the null hypothesis. The data provides enough evidence to conclude that the population mean is different from {null_hypothesis_mean}.\")\n",
    "else:\n",
    "    print(f\"Fail to reject the null hypothesis. The data does not provide enough evidence to conclude that the population mean is different from {null_hypothesis_mean}.\")\n",
    "\n",
    "print(f\"t-statistic: {t_stat:.2f}\")\n",
    "print(f\"P-value: {p_value:.4f}\")\n"
   ]
  },
  {
   "cell_type": "markdown",
   "metadata": {},
   "source": [
    "### Two-sample t-test\n",
    "\n",
    "Let us now check if males and females have the same average height:"
   ]
  },
  {
   "cell_type": "code",
   "execution_count": 18,
   "metadata": {},
   "outputs": [
    {
     "name": "stdout",
     "output_type": "stream",
     "text": [
      "Test statistic: 66.95\n",
      "Significance level: 0.05\n",
      "P-value: 0.00\n",
      "Conclusion: there is a significant difference between the mean exam scores of the two classes.\n"
     ]
    }
   ],
   "source": [
    "import scipy.stats as stats\n",
    "\n",
    "male_h = data[data['sex']=='M']['height']\n",
    "female_h = data[data['sex']=='F']['height']\n",
    "\n",
    "# Perform independent two-sample t-test\n",
    "t_stat, p_value = stats.ttest_ind(male_h, female_h)\n",
    "\n",
    "# Define significance level (alpha)\n",
    "alpha = 0.05\n",
    "\n",
    "print(f\"Test statistic: {t_stat:0.2f}\")\n",
    "print(f\"Significance level: {alpha:0.2f}\")\n",
    "print(f\"P-value: {p_value:0.2f}\")\n",
    "\n",
    "# Comment on result\n",
    "if p_value < alpha:\n",
    "    print(\"Conclusion: there is a significant difference between the mean exam scores of the two classes.\")\n",
    "else:\n",
    "    print(\"Conclusion: there is no significant difference between the mean exam scores of the two classes.\")\n"
   ]
  },
  {
   "cell_type": "markdown",
   "metadata": {},
   "source": [
    "Let us now compare the average heights in two samples we previously obtained via random sampling. We expect no differences:"
   ]
  },
  {
   "cell_type": "code",
   "execution_count": 19,
   "metadata": {},
   "outputs": [
    {
     "name": "stdout",
     "output_type": "stream",
     "text": [
      "Test statistic: 0.52\n",
      "Significance level: 0.05\n",
      "P-value: 0.60\n",
      "Conclusion: there is no significant difference between the mean exam scores of the two classes.\n"
     ]
    }
   ],
   "source": [
    "import scipy.stats as stats\n",
    "\n",
    "h1 = sample1['height']\n",
    "h2 = sample2['height']\n",
    "\n",
    "# Perform independent two-sample t-test\n",
    "t_stat, p_value = stats.ttest_ind(h1, h2)\n",
    "\n",
    "# Define significance level (alpha)\n",
    "alpha = 0.05\n",
    "\n",
    "print(f\"Test statistic: {t_stat:0.2f}\")\n",
    "print(f\"Significance level: {alpha:0.2f}\")\n",
    "print(f\"P-value: {p_value:0.2f}\")\n",
    "\n",
    "# Comment on result\n",
    "if p_value < alpha:\n",
    "    print(\"Conclusion: there is a significant difference between the mean exam scores of the two classes.\")\n",
    "else:\n",
    "    print(\"Conclusion: there is no significant difference between the mean exam scores of the two classes.\")\n"
   ]
  },
  {
   "cell_type": "markdown",
   "metadata": {},
   "source": [
    "### Chi-square test of independence\n",
    "Let us consider the Titanic dataset:"
   ]
  },
  {
   "cell_type": "code",
   "execution_count": 20,
   "metadata": {},
   "outputs": [
    {
     "data": {
      "text/html": [
       "<div>\n",
       "<style scoped>\n",
       "    .dataframe tbody tr th:only-of-type {\n",
       "        vertical-align: middle;\n",
       "    }\n",
       "\n",
       "    .dataframe tbody tr th {\n",
       "        vertical-align: top;\n",
       "    }\n",
       "\n",
       "    .dataframe thead th {\n",
       "        text-align: right;\n",
       "    }\n",
       "</style>\n",
       "<table border=\"1\" class=\"dataframe\">\n",
       "  <thead>\n",
       "    <tr style=\"text-align: right;\">\n",
       "      <th></th>\n",
       "      <th>Survived</th>\n",
       "      <th>Pclass</th>\n",
       "      <th>Name</th>\n",
       "      <th>Sex</th>\n",
       "      <th>Age</th>\n",
       "      <th>SibSp</th>\n",
       "      <th>Parch</th>\n",
       "      <th>Ticket</th>\n",
       "      <th>Fare</th>\n",
       "      <th>Cabin</th>\n",
       "      <th>Embarked</th>\n",
       "    </tr>\n",
       "    <tr>\n",
       "      <th>PassengerId</th>\n",
       "      <th></th>\n",
       "      <th></th>\n",
       "      <th></th>\n",
       "      <th></th>\n",
       "      <th></th>\n",
       "      <th></th>\n",
       "      <th></th>\n",
       "      <th></th>\n",
       "      <th></th>\n",
       "      <th></th>\n",
       "      <th></th>\n",
       "    </tr>\n",
       "  </thead>\n",
       "  <tbody>\n",
       "    <tr>\n",
       "      <th>1</th>\n",
       "      <td>0</td>\n",
       "      <td>3</td>\n",
       "      <td>Braund, Mr. Owen Harris</td>\n",
       "      <td>male</td>\n",
       "      <td>22.0</td>\n",
       "      <td>1</td>\n",
       "      <td>0</td>\n",
       "      <td>A/5 21171</td>\n",
       "      <td>7.2500</td>\n",
       "      <td>NaN</td>\n",
       "      <td>S</td>\n",
       "    </tr>\n",
       "    <tr>\n",
       "      <th>2</th>\n",
       "      <td>1</td>\n",
       "      <td>1</td>\n",
       "      <td>Cumings, Mrs. John Bradley (Florence Briggs Th...</td>\n",
       "      <td>female</td>\n",
       "      <td>38.0</td>\n",
       "      <td>1</td>\n",
       "      <td>0</td>\n",
       "      <td>PC 17599</td>\n",
       "      <td>71.2833</td>\n",
       "      <td>C85</td>\n",
       "      <td>C</td>\n",
       "    </tr>\n",
       "    <tr>\n",
       "      <th>3</th>\n",
       "      <td>1</td>\n",
       "      <td>3</td>\n",
       "      <td>Heikkinen, Miss. Laina</td>\n",
       "      <td>female</td>\n",
       "      <td>26.0</td>\n",
       "      <td>0</td>\n",
       "      <td>0</td>\n",
       "      <td>STON/O2. 3101282</td>\n",
       "      <td>7.9250</td>\n",
       "      <td>NaN</td>\n",
       "      <td>S</td>\n",
       "    </tr>\n",
       "    <tr>\n",
       "      <th>4</th>\n",
       "      <td>1</td>\n",
       "      <td>1</td>\n",
       "      <td>Futrelle, Mrs. Jacques Heath (Lily May Peel)</td>\n",
       "      <td>female</td>\n",
       "      <td>35.0</td>\n",
       "      <td>1</td>\n",
       "      <td>0</td>\n",
       "      <td>113803</td>\n",
       "      <td>53.1000</td>\n",
       "      <td>C123</td>\n",
       "      <td>S</td>\n",
       "    </tr>\n",
       "    <tr>\n",
       "      <th>5</th>\n",
       "      <td>0</td>\n",
       "      <td>3</td>\n",
       "      <td>Allen, Mr. William Henry</td>\n",
       "      <td>male</td>\n",
       "      <td>35.0</td>\n",
       "      <td>0</td>\n",
       "      <td>0</td>\n",
       "      <td>373450</td>\n",
       "      <td>8.0500</td>\n",
       "      <td>NaN</td>\n",
       "      <td>S</td>\n",
       "    </tr>\n",
       "    <tr>\n",
       "      <th>...</th>\n",
       "      <td>...</td>\n",
       "      <td>...</td>\n",
       "      <td>...</td>\n",
       "      <td>...</td>\n",
       "      <td>...</td>\n",
       "      <td>...</td>\n",
       "      <td>...</td>\n",
       "      <td>...</td>\n",
       "      <td>...</td>\n",
       "      <td>...</td>\n",
       "      <td>...</td>\n",
       "    </tr>\n",
       "    <tr>\n",
       "      <th>887</th>\n",
       "      <td>0</td>\n",
       "      <td>2</td>\n",
       "      <td>Montvila, Rev. Juozas</td>\n",
       "      <td>male</td>\n",
       "      <td>27.0</td>\n",
       "      <td>0</td>\n",
       "      <td>0</td>\n",
       "      <td>211536</td>\n",
       "      <td>13.0000</td>\n",
       "      <td>NaN</td>\n",
       "      <td>S</td>\n",
       "    </tr>\n",
       "    <tr>\n",
       "      <th>888</th>\n",
       "      <td>1</td>\n",
       "      <td>1</td>\n",
       "      <td>Graham, Miss. Margaret Edith</td>\n",
       "      <td>female</td>\n",
       "      <td>19.0</td>\n",
       "      <td>0</td>\n",
       "      <td>0</td>\n",
       "      <td>112053</td>\n",
       "      <td>30.0000</td>\n",
       "      <td>B42</td>\n",
       "      <td>S</td>\n",
       "    </tr>\n",
       "    <tr>\n",
       "      <th>889</th>\n",
       "      <td>0</td>\n",
       "      <td>3</td>\n",
       "      <td>Johnston, Miss. Catherine Helen \"Carrie\"</td>\n",
       "      <td>female</td>\n",
       "      <td>NaN</td>\n",
       "      <td>1</td>\n",
       "      <td>2</td>\n",
       "      <td>W./C. 6607</td>\n",
       "      <td>23.4500</td>\n",
       "      <td>NaN</td>\n",
       "      <td>S</td>\n",
       "    </tr>\n",
       "    <tr>\n",
       "      <th>890</th>\n",
       "      <td>1</td>\n",
       "      <td>1</td>\n",
       "      <td>Behr, Mr. Karl Howell</td>\n",
       "      <td>male</td>\n",
       "      <td>26.0</td>\n",
       "      <td>0</td>\n",
       "      <td>0</td>\n",
       "      <td>111369</td>\n",
       "      <td>30.0000</td>\n",
       "      <td>C148</td>\n",
       "      <td>C</td>\n",
       "    </tr>\n",
       "    <tr>\n",
       "      <th>891</th>\n",
       "      <td>0</td>\n",
       "      <td>3</td>\n",
       "      <td>Dooley, Mr. Patrick</td>\n",
       "      <td>male</td>\n",
       "      <td>32.0</td>\n",
       "      <td>0</td>\n",
       "      <td>0</td>\n",
       "      <td>370376</td>\n",
       "      <td>7.7500</td>\n",
       "      <td>NaN</td>\n",
       "      <td>Q</td>\n",
       "    </tr>\n",
       "  </tbody>\n",
       "</table>\n",
       "<p>891 rows × 11 columns</p>\n",
       "</div>"
      ],
      "text/plain": [
       "             Survived  Pclass  \\\n",
       "PassengerId                     \n",
       "1                   0       3   \n",
       "2                   1       1   \n",
       "3                   1       3   \n",
       "4                   1       1   \n",
       "5                   0       3   \n",
       "...               ...     ...   \n",
       "887                 0       2   \n",
       "888                 1       1   \n",
       "889                 0       3   \n",
       "890                 1       1   \n",
       "891                 0       3   \n",
       "\n",
       "                                                          Name     Sex   Age  \\\n",
       "PassengerId                                                                    \n",
       "1                                      Braund, Mr. Owen Harris    male  22.0   \n",
       "2            Cumings, Mrs. John Bradley (Florence Briggs Th...  female  38.0   \n",
       "3                                       Heikkinen, Miss. Laina  female  26.0   \n",
       "4                 Futrelle, Mrs. Jacques Heath (Lily May Peel)  female  35.0   \n",
       "5                                     Allen, Mr. William Henry    male  35.0   \n",
       "...                                                        ...     ...   ...   \n",
       "887                                      Montvila, Rev. Juozas    male  27.0   \n",
       "888                               Graham, Miss. Margaret Edith  female  19.0   \n",
       "889                   Johnston, Miss. Catherine Helen \"Carrie\"  female   NaN   \n",
       "890                                      Behr, Mr. Karl Howell    male  26.0   \n",
       "891                                        Dooley, Mr. Patrick    male  32.0   \n",
       "\n",
       "             SibSp  Parch            Ticket     Fare Cabin Embarked  \n",
       "PassengerId                                                          \n",
       "1                1      0         A/5 21171   7.2500   NaN        S  \n",
       "2                1      0          PC 17599  71.2833   C85        C  \n",
       "3                0      0  STON/O2. 3101282   7.9250   NaN        S  \n",
       "4                1      0            113803  53.1000  C123        S  \n",
       "5                0      0            373450   8.0500   NaN        S  \n",
       "...            ...    ...               ...      ...   ...      ...  \n",
       "887              0      0            211536  13.0000   NaN        S  \n",
       "888              0      0            112053  30.0000   B42        S  \n",
       "889              1      2        W./C. 6607  23.4500   NaN        S  \n",
       "890              0      0            111369  30.0000  C148        C  \n",
       "891              0      0            370376   7.7500   NaN        Q  \n",
       "\n",
       "[891 rows x 11 columns]"
      ]
     },
     "execution_count": 20,
     "metadata": {},
     "output_type": "execute_result"
    }
   ],
   "source": [
    "import pandas as pd\n",
    "titanic = pd.read_csv('https://raw.githubusercontent.com/agconti/kaggle-titanic/master/data/train.csv',\n",
    "                     index_col='PassengerId')\n",
    "titanic"
   ]
  },
  {
   "cell_type": "markdown",
   "metadata": {},
   "source": [
    "We want to check if `Sex` and `Survived` are independent. Let us see the contingency table:"
   ]
  },
  {
   "cell_type": "code",
   "execution_count": 21,
   "metadata": {},
   "outputs": [
    {
     "data": {
      "text/html": [
       "<div>\n",
       "<style scoped>\n",
       "    .dataframe tbody tr th:only-of-type {\n",
       "        vertical-align: middle;\n",
       "    }\n",
       "\n",
       "    .dataframe tbody tr th {\n",
       "        vertical-align: top;\n",
       "    }\n",
       "\n",
       "    .dataframe thead th {\n",
       "        text-align: right;\n",
       "    }\n",
       "</style>\n",
       "<table border=\"1\" class=\"dataframe\">\n",
       "  <thead>\n",
       "    <tr style=\"text-align: right;\">\n",
       "      <th>Survived</th>\n",
       "      <th>0</th>\n",
       "      <th>1</th>\n",
       "    </tr>\n",
       "    <tr>\n",
       "      <th>Sex</th>\n",
       "      <th></th>\n",
       "      <th></th>\n",
       "    </tr>\n",
       "  </thead>\n",
       "  <tbody>\n",
       "    <tr>\n",
       "      <th>female</th>\n",
       "      <td>81</td>\n",
       "      <td>233</td>\n",
       "    </tr>\n",
       "    <tr>\n",
       "      <th>male</th>\n",
       "      <td>468</td>\n",
       "      <td>109</td>\n",
       "    </tr>\n",
       "  </tbody>\n",
       "</table>\n",
       "</div>"
      ],
      "text/plain": [
       "Survived    0    1\n",
       "Sex               \n",
       "female     81  233\n",
       "male      468  109"
      ]
     },
     "execution_count": 21,
     "metadata": {},
     "output_type": "execute_result"
    }
   ],
   "source": [
    "contingency_table = pd.crosstab(titanic['Sex'], titanic['Survived'])\n",
    "contingency_table"
   ]
  },
  {
   "cell_type": "markdown",
   "metadata": {},
   "source": [
    "Let us visualize the result:"
   ]
  },
  {
   "cell_type": "code",
   "execution_count": 22,
   "metadata": {},
   "outputs": [
    {
     "data": {
      "image/png": "[encoded data removed]",
      "text/plain": [
       "<Figure size 432x288 with 1 Axes>"
      ]
     },
     "metadata": {
      "needs_background": "light"
     },
     "output_type": "display_data"
    }
   ],
   "source": [
    "pd.crosstab(titanic['Sex'], titanic['Survived'], normalize=0).plot.bar(stacked=True)\n",
    "plt.show()"
   ]
  },
  {
   "cell_type": "markdown",
   "metadata": {},
   "source": [
    "We expect some form of correlation. Indeed, if we compute Pearson $\\chi^2$ statistic and Cramer V statistic, we obtain:"
   ]
  },
  {
   "cell_type": "code",
   "execution_count": 23,
   "metadata": {},
   "outputs": [
    {
     "name": "stdout",
     "output_type": "stream",
     "text": [
      "Chi-square statistic: 260.72\n",
      "Cramer V statistic: 0.54\n"
     ]
    }
   ],
   "source": [
    "from scipy.stats import chi2_contingency\n",
    "from scipy.stats.contingency import association\n",
    "\n",
    "print(f\"Chi-square statistic: {chi2_contingency(contingency_table).statistic:0.2f}\")\n",
    "print(f\"Cramer V statistic: {association(contingency_table):0.2f}\")"
   ]
  },
  {
   "cell_type": "markdown",
   "metadata": {},
   "source": [
    "Let us check if this is statistically significant with a $\\chi^2$ test of independence:"
   ]
  },
  {
   "cell_type": "code",
   "execution_count": 24,
   "metadata": {},
   "outputs": [
    {
     "name": "stdout",
     "output_type": "stream",
     "text": [
      "Chi-Square Statistic: 260.71702016732104\n",
      "p-value: 1.1973570627755645e-58\n",
      "\n",
      "There is a significant association between 'Sex' and 'survived'.\n"
     ]
    }
   ],
   "source": [
    "from scipy.stats import chi2_contingency\n",
    "\n",
    "# Perform the Chi-Square Test for Independence\n",
    "chi2, p, _, _ = chi2_contingency(contingency_table)\n",
    "\n",
    "# Set the significance level (alpha)\n",
    "alpha = 0.05\n",
    "\n",
    "# Print the results\n",
    "print(\"Chi-Square Statistic:\", chi2)\n",
    "print(\"p-value:\", p)\n",
    "\n",
    "# Interpret the results\n",
    "if p < alpha:\n",
    "    print(\"\\nThere is a significant association between 'Sex' and 'survived'.\")\n",
    "else:\n",
    "    print(\"\\nThere is no significant association between 'Sex' and 'survived'.\")\n"
   ]
  },
  {
   "cell_type": "markdown",
   "metadata": {},
   "source": [
    "### Chi-Square Goodness-of-Fit Test\n",
    "\n",
    "The Chi-Square Goodness of Fit test allows to determine whether observed frequencies fit a specified distribution or expected frequencies. \n",
    "\n",
    "As we can imagine, the distribution of `sex` in the Titanic dataset is not uniform:"
   ]
  },
  {
   "cell_type": "code",
   "execution_count": 25,
   "metadata": {},
   "outputs": [
    {
     "data": {
      "image/png": "[encoded data removed]",
      "text/plain": [
       "<Figure size 432x288 with 1 Axes>"
      ]
     },
     "metadata": {
      "needs_background": "light"
     },
     "output_type": "display_data"
    }
   ],
   "source": [
    "titanic['Sex'].value_counts().plot.bar()\n",
    "plt.show()"
   ]
  },
  {
   "cell_type": "markdown",
   "metadata": {},
   "source": [
    "The counts of males and females are:"
   ]
  },
  {
   "cell_type": "code",
   "execution_count": 26,
   "metadata": {},
   "outputs": [
    {
     "data": {
      "text/plain": [
       "male      577\n",
       "female    314\n",
       "Name: Sex, dtype: int64"
      ]
     },
     "execution_count": 26,
     "metadata": {},
     "output_type": "execute_result"
    }
   ],
   "source": [
    "titanic['Sex'].value_counts()"
   ]
  },
  {
   "cell_type": "markdown",
   "metadata": {},
   "source": [
    "This difference is probably not just due to sampling. Let us run a $\\chi^2$ goodness of fit test to check if this distribution is significantly different from the uniform distribution of frequencies:"
   ]
  },
  {
   "cell_type": "code",
   "execution_count": 27,
   "metadata": {},
   "outputs": [
    {
     "name": "stdout",
     "output_type": "stream",
     "text": [
      "Observed Frequencies:\n",
      "[577 314]\n",
      "\n",
      "Expected Frequencies:\n",
      "[445.5, 445.5]\n",
      "\n",
      "Chi-Square Statistic: 77.63075196408529\n",
      "p-value: 1.2422095313910336e-18\n",
      "\n",
      "The observed data significantly deviates from the expected distribution.\n"
     ]
    }
   ],
   "source": [
    "import seaborn as sns\n",
    "import pandas as pd\n",
    "from scipy.stats import chisquare\n",
    "\n",
    "observed_frequencies = titanic['Sex'].value_counts().values\n",
    "\n",
    "# Define expected frequencies that closely match the observed data\n",
    "expected_frequencies = [observed_frequencies.mean()]*2\n",
    "\n",
    "chi2, p_value = chisquare(f_obs=observed_frequencies, f_exp=expected_frequencies)\n",
    "\n",
    "# Set the significance level (alpha)\n",
    "alpha = 0.05\n",
    "\n",
    "# Print the results\n",
    "print(\"Observed Frequencies:\")\n",
    "print(observed_frequencies)\n",
    "print(\"\\nExpected Frequencies:\")\n",
    "print(expected_frequencies)\n",
    "print(\"\\nChi-Square Statistic:\", chi2)\n",
    "print(\"p-value:\", p_value)\n",
    "\n",
    "# Interpret the results\n",
    "if p_value < alpha:\n",
    "    print(\"\\nThe observed data significantly deviates from the expected distribution.\")\n",
    "else:\n",
    "    print(\"\\nThe observed data fits the expected distribution.\")\n"
   ]
  },
  {
   "cell_type": "markdown",
   "metadata": {},
   "source": [
    "As expected, there is a significant deviation. As seen in the lecture, let us now check if `sex` is equally distributed among kids:"
   ]
  },
  {
   "cell_type": "code",
   "execution_count": 28,
   "metadata": {},
   "outputs": [
    {
     "data": {
      "image/png": "[encoded data removed]",
      "text/plain": [
       "<Figure size 432x288 with 1 Axes>"
      ]
     },
     "metadata": {
      "needs_background": "light"
     },
     "output_type": "display_data"
    },
    {
     "data": {
      "text/plain": [
       "male      58\n",
       "female    55\n",
       "Name: Sex, dtype: int64"
      ]
     },
     "execution_count": 28,
     "metadata": {},
     "output_type": "execute_result"
    }
   ],
   "source": [
    "minor=titanic[titanic['Age']<18]\n",
    "observed_frequencies = minor['Sex'].value_counts()\n",
    "observed_frequencies.plot.bar()\n",
    "plt.show()\n",
    "observed_frequencies"
   ]
  },
  {
   "cell_type": "markdown",
   "metadata": {},
   "source": [
    "This looks less biased, but there are still minor differences between the counts. Are these due to chance? Let us run a $\\chi^2$ goodness of fit test:"
   ]
  },
  {
   "cell_type": "code",
   "execution_count": 29,
   "metadata": {},
   "outputs": [
    {
     "name": "stdout",
     "output_type": "stream",
     "text": [
      "Observed Frequencies:\n",
      "[58 55]\n",
      "\n",
      "Expected Frequencies:\n",
      "[56.5, 56.5]\n",
      "\n",
      "Chi-Square Statistic: 0.07964601769911504\n",
      "p-value: 0.7777776907897473\n",
      "\n",
      "The observed data fits the expected distribution.\n"
     ]
    }
   ],
   "source": [
    "import seaborn as sns\n",
    "import pandas as pd\n",
    "from scipy.stats import chisquare\n",
    "\n",
    "# Load the Titanic dataset\n",
    "titanic_data = sns.load_dataset(\"titanic\")\n",
    "\n",
    "observed_frequencies = minor['Sex'].value_counts().values\n",
    "\n",
    "# Define expected frequencies that closely match the observed data\n",
    "expected_frequencies = [113/2, 113/2]\n",
    "\n",
    "chi2, p_value = chisquare(f_obs=observed_frequencies, f_exp=expected_frequencies)\n",
    "\n",
    "# Set the significance level (alpha)\n",
    "alpha = 0.05\n",
    "\n",
    "# Print the results\n",
    "print(\"Observed Frequencies:\")\n",
    "print(observed_frequencies)\n",
    "print(\"\\nExpected Frequencies:\")\n",
    "print(expected_frequencies)\n",
    "print(\"\\nChi-Square Statistic:\", chi2)\n",
    "print(\"p-value:\", p_value)\n",
    "\n",
    "# Interpret the results\n",
    "if p_value < alpha:\n",
    "    print(\"\\nThe observed data significantly deviates from the expected distribution.\")\n",
    "else:\n",
    "    print(\"\\nThe observed data fits the expected distribution.\")\n"
   ]
  },
  {
   "cell_type": "markdown",
   "metadata": {},
   "source": [
    "Since the p-value is large, we could not reject the null hypothesis and we can conclude that there is no significant difference between observed and expected frequencies."
   ]
  },
  {
   "cell_type": "markdown",
   "metadata": {},
   "source": [
    "### Pearson/Spearman/Kendall Correlation Test\n",
    "We can easily compute correlation coefficients and the p-value of the related statistical tests using `scipy`. Let us see some examples:"
   ]
  },
  {
   "cell_type": "code",
   "execution_count": 30,
   "metadata": {},
   "outputs": [
    {
     "name": "stdout",
     "output_type": "stream",
     "text": [
      "Person r: 0.52. P-value: 0.00\n",
      "Spearman r: 0.53. P-value: 0.00\n",
      "Kendall Tau r: 0.39. P-value: 0.00\n"
     ]
    }
   ],
   "source": [
    "from scipy.stats import pearsonr, spearmanr, kendalltau\n",
    "\n",
    "pr, pr_pvalue = pearsonr(data['weight'], data['height'])\n",
    "sr, sr_pvalue = spearmanr(data['weight'], data['height'])\n",
    "kt, kt_pvalue = kendalltau(data['weight'], data['height'])\n",
    "\n",
    "print(f\"Person r: {pr:0.2f}. P-value: {pr_pvalue:0.2f}\")\n",
    "print(f\"Spearman r: {sr:0.2f}. P-value: {sr_pvalue:0.2f}\")\n",
    "print(f\"Kendall Tau r: {kt:0.2f}. P-value: {kt_pvalue:0.2f}\")"
   ]
  },
  {
   "cell_type": "markdown",
   "metadata": {},
   "source": [
    "All correlations are statistically relevant. Let us now check if there is a significant correlation between `Age` and `Fare`. Let us first visualize the scatterplot:"
   ]
  },
  {
   "cell_type": "code",
   "execution_count": 31,
   "metadata": {},
   "outputs": [
    {
     "data": {
      "image/png": "[encoded data removed]",
      "text/plain": [
       "<Figure size 432x288 with 1 Axes>"
      ]
     },
     "metadata": {
      "needs_background": "light"
     },
     "output_type": "display_data"
    }
   ],
   "source": [
    "titanic.plot.scatter(x='Age', y='Fare')\n",
    "plt.show()"
   ]
  },
  {
   "cell_type": "markdown",
   "metadata": {},
   "source": [
    "It looks like there is no correlation. If we compute Pearson correlation coefficient, we get a value close to zero:"
   ]
  },
  {
   "cell_type": "code",
   "execution_count": 32,
   "metadata": {},
   "outputs": [
    {
     "name": "stdout",
     "output_type": "stream",
     "text": [
      "-0.09\n"
     ]
    }
   ],
   "source": [
    "pr, _ = pearsonr(titanic.dropna()['Age'], titanic.dropna()['Fare'])\n",
    "print(f\"{pr:0.2f}\")"
   ]
  },
  {
   "cell_type": "markdown",
   "metadata": {},
   "source": [
    "Is this a small negative correlation, or is this value due to chance? Let us have a look at p-values:"
   ]
  },
  {
   "cell_type": "code",
   "execution_count": 33,
   "metadata": {},
   "outputs": [
    {
     "name": "stdout",
     "output_type": "stream",
     "text": [
      "Person r: -0.09. P-value: 0.21\n",
      "Spearman r: -0.08. P-value: 0.31\n",
      "Kendall Tau r: -0.05. P-value: 0.31\n"
     ]
    }
   ],
   "source": [
    "pr, pr_pvalue = pearsonr(titanic.dropna()['Age'], titanic.dropna()['Fare'])\n",
    "sr, sr_pvalue = spearmanr(titanic.dropna()['Age'], titanic.dropna()['Fare'])\n",
    "kt, kt_pvalue = kendalltau(titanic.dropna()['Age'], titanic.dropna()['Fare'])\n",
    "\n",
    "print(f\"Person r: {pr:0.2f}. P-value: {pr_pvalue:0.2f}\")\n",
    "print(f\"Spearman r: {sr:0.2f}. P-value: {sr_pvalue:0.2f}\")\n",
    "print(f\"Kendall Tau r: {kt:0.2f}. P-value: {kt_pvalue:0.2f}\")"
   ]
  },
  {
   "cell_type": "markdown",
   "metadata": {},
   "source": [
    "P-values are large ($>0.05$), so whatever we measured as a correlation is not reliable."
   ]
  },
  {
   "cell_type": "markdown",
   "metadata": {},
   "source": [
    "## Normality Tests\n",
    "\n",
    "We can check for the normality of sample using Q-Q plots and normality tests. Let us see a Q-Q plot to check if `BMI` is normally distributed:"
   ]
  },
  {
   "cell_type": "code",
   "execution_count": 34,
   "metadata": {},
   "outputs": [
    {
     "data": {
      "image/png": "[encoded data removed]",
      "text/plain": [
       "<Figure size 432x288 with 1 Axes>"
      ]
     },
     "metadata": {
      "needs_background": "light"
     },
     "output_type": "display_data"
    }
   ],
   "source": [
    "from statsmodels.graphics.gofplots import qqplot\n",
    "import pandas as pd\n",
    "from matplotlib import pyplot as plt\n",
    "\n",
    "qqplot(data['BMI'], fit=True, line='45')\n",
    "plt.grid()\n",
    "plt.show()"
   ]
  },
  {
   "cell_type": "markdown",
   "metadata": {},
   "source": [
    "We see deviations due to a skewed distribution. Let us check this against the density plot:"
   ]
  },
  {
   "cell_type": "code",
   "execution_count": 35,
   "metadata": {},
   "outputs": [
    {
     "data": {
      "text/plain": [
       "<AxesSubplot:ylabel='Density'>"
      ]
     },
     "execution_count": 35,
     "metadata": {},
     "output_type": "execute_result"
    },
    {
     "data": {
      "image/png": "[encoded data removed]",
      "text/plain": [
       "<Figure size 432x288 with 1 Axes>"
      ]
     },
     "metadata": {
      "needs_background": "light"
     },
     "output_type": "display_data"
    }
   ],
   "source": [
    "data['BMI'].plot.density()"
   ]
  },
  {
   "cell_type": "markdown",
   "metadata": {},
   "source": [
    "We can formally check with a Shapiro-Wilk test:"
   ]
  },
  {
   "cell_type": "code",
   "execution_count": 36,
   "metadata": {},
   "outputs": [
    {
     "name": "stdout",
     "output_type": "stream",
     "text": [
      "Test statistic: 0.96\n",
      "P-value: 0.00\n",
      "Sample does not look Gaussian (reject H0)\n"
     ]
    }
   ],
   "source": [
    "from scipy.stats import shapiro\n",
    "\n",
    "# Perform the Shapiro-Wilk test\n",
    "statistic, p_value = shapiro(data['BMI'])\n",
    "\n",
    "# Set the significance level (alpha)\n",
    "alpha = 0.05\n",
    "\n",
    "print(f\"Test statistic: {statistic:0.2f}\")\n",
    "print(f\"P-value: {p_value:0.2f}\")\n",
    "\n",
    "# Check the p-value against the significance level\n",
    "if p_value > alpha:\n",
    "    print(\"Sample looks Gaussian (fail to reject H0)\")\n",
    "else:\n",
    "    print(\"Sample does not look Gaussian (reject H0)\")\n"
   ]
  },
  {
   "cell_type": "markdown",
   "metadata": {},
   "source": [
    "For D'Agostino's K-squares test, we just need to use `normaltest` instead of `shapiro`:"
   ]
  },
  {
   "cell_type": "code",
   "execution_count": 37,
   "metadata": {},
   "outputs": [
    {
     "name": "stdout",
     "output_type": "stream",
     "text": [
      "Test statistic: 484.80\n",
      "P-value: 0.00\n",
      "Sample does not look Gaussian (reject H0)\n"
     ]
    }
   ],
   "source": [
    "from scipy.stats import normaltest\n",
    "\n",
    "statistic, p_value = normaltest(data['BMI'])\n",
    "\n",
    "# Set the significance level (alpha)\n",
    "alpha = 0.05\n",
    "\n",
    "print(f\"Test statistic: {statistic:0.2f}\")\n",
    "print(f\"P-value: {p_value:0.2f}\")\n",
    "\n",
    "# Check the p-value against the significance level\n",
    "if p_value > alpha:\n",
    "    print(\"Sample looks Gaussian (fail to reject H0)\")\n",
    "else:\n",
    "    print(\"Sample does not look Gaussian (reject H0)\")\n"
   ]
  },
  {
   "cell_type": "markdown",
   "metadata": {},
   "source": [
    "**Word of Caution**: normality tests such as the Shapiro-Wilk test may reject the hypothesis of Gaussianity for any large sample (even if approximately Gaussian), so we should use this test with caution."
   ]
  },
  {
   "cell_type": "markdown",
   "metadata": {},
   "source": [
    "## Exercises\n",
    "> 🧑‍💻 Exercise 1\n",
    "> \n",
    "> Consider the sample of all passengers in the titanic dataset. Compute the mean age of all passengers. Then, compute the confidence bounds for this mean setting the confidence level to 0.95. Is the estimated mean a reliable estimate of the population mean?"
   ]
  },
  {
   "cell_type": "markdown",
   "metadata": {},
   "source": [
    "> 🧑‍💻 Exercise 2\n",
    "> \n",
    "> Consider the samples of all passengers in the titanic dataset. Compute the variance of the ages of all passengers. Then, compute the confidence bounds for this variance setting the confidence level to 0.95. Is the estimated variance a reliable estimate of the population variance?"
   ]
  },
  {
   "cell_type": "markdown",
   "metadata": {},
   "source": [
    "> 🧑‍💻 Exercise 3\n",
    "> \n",
    "> Extract the sample of values of Sex of passengers in second class in the titanic dataset. Compute the contingency table of absolute counts of the Sex column. Compute the confidence bounds for the proportions of Sex in the sample. Are the estimated bounds reliable? Repeat the analysis for class 1 and 3."
   ]
  },
  {
   "cell_type": "markdown",
   "metadata": {},
   "source": [
    "> 🧑‍💻 Exercise 4\n",
    "> \n",
    "> The average age of women in the US population is 40. Run a statistical test to assess whether the sample of ages in the `infert` dataset has the same mean as the US population. What is the result of the test? Are women in `infert` younger or older than the average?\n",
    ">\n",
    "> You can load the dataset installing the `pydataset` library with `pip install pydataset` and then:\n",
    ">\n",
    "> `from pydataset import data; infert = data(\"infert\")`"
   ]
  },
  {
   "cell_type": "markdown",
   "metadata": {},
   "source": [
    "> 🧑‍💻 Exercise 5\n",
    "> \n",
    "> Consider the `titanic` dataset. Follow these steps to assess that males and females **are not equally distributed**:\n",
    ">\n",
    "> * Obtain a table of absolute frequencies of the values of `Sex`;\n",
    "> * Show a barplot comparing the proportions of male and female passengers. Do these look equally distributed?\n",
    "> * Run a statistical test to assess whether the proportion of males and females are equal ($p=0.5$). What is the result of the test?\n",
    "> * Run the statistical test setting $p=1/3$. Is the result different? Can we reject the null hypothesis? Why?\n"
   ]
  },
  {
   "cell_type": "markdown",
   "metadata": {},
   "source": [
    "\n",
    "> 🧑‍💻 Exercise 6\n",
    "> \n",
    "> Consider the samples of male and female passengers in the `titanic` dataset. Follow these steps to assess if the two populations related to the samples have significantly different ages:\n",
    "\n",
    "> * Show a barplot to compare the average age of female and male passengers. Are the ages different? Which group contain the younger subjects?\n",
    "> * Obtain two separate samples of the ages of males and females;\n",
    "> * Run a t-test to check if the means of the populations related to the two samples are significantly different or not. Comment on the results of the test.\n",
    "\n",
    "> 🧑‍💻 Exercise 7\n",
    "> Consider the `titanic` dataset and study the relationship between the `Pclass` and `Survived` variables following these steps:\n",
    "> \n",
    "> * Compute the contingency table of absolute frequencies of the two variables;\n",
    "> * Compute the table of conditional probabilities $P(Survived|Pclass)$;\n",
    "> * Show a stacked bar plot reporting the proportions between survived and non-survived passengers with respect to the `Pclass` variable;\n",
    "> * Run a Pearson's Chi-Square test of independence to check if the differences in the observed proportions are statistically significant or not. Set the significance level to $0.95$.\n",
    "\n",
    "> 🧑‍💻 Exercise 8\n",
    "> Add a new `Old` column to the `titanic_train` dataframe. The values in the column should be $1$ if the value of `Age` is larger than the median value of all ages in the dataframe and $0$ otherwise. Study the influence of the variable `Sex` on the proportions of `Old` following these steps:\n",
    "> \n",
    "> * Create a contingency table with the `Sex` variable on the rows and the `Old` variable on the columns;\n",
    "> * Obtain a table of the conditional probabilities $P(Old|Sex)$. Are the proportions different in the groups defined by the `Sex` variable?\n",
    "> * Show a stacked bar plot to display these proportions;\n",
    "> * Run a Pearson's Chi-Squared test of independence to assess if the observed differences are statistically relevant."
   ]
  }
 ],
 "metadata": {
  "kernelspec": {
   "display_name": "base",
   "language": "python",
   "name": "python3"
  },
  "language_info": {
   "codemirror_mode": {
    "name": "ipython",
    "version": 3
   },
   "file_extension": ".py",
   "mimetype": "text/x-python",
   "name": "python",
   "nbconvert_exporter": "python",
   "pygments_lexer": "ipython3",
   "version": "3.9.12"
  }
 },
 "nbformat": 4,
 "nbformat_minor": 2
}
