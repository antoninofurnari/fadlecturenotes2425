{
 "cells": [
  {
   "cell_type": "markdown",
   "metadata": {},
   "source": [
    "# Basic Elements of Information Theory\n",
    "\n",
    "Probability Theory allows to deal with the uncertain, however, it does\n",
    "not allow to quantify it. Information theory provides the tools to\n",
    "**quantify how much information is present in a signal**.\n",
    "\n",
    "When dealing with data, it can be useful to understand which data is\n",
    "informative and which is not, with respect to a given goal.\n",
    "\n",
    "The basic intuition behind information theory is that learning an\n",
    "unlikely event has occurred is more informative than learning a likely\n",
    "event has occurred.\n",
    "\n",
    "For instance, the event \"the sun rose this morning\" is very likely and\n",
    "hence it is not very informative. The message \"there was a solar eclipse\n",
    "this morning\" is instead very unlikely, and hence informative."
   ]
  },
  {
   "cell_type": "markdown",
   "metadata": {},
   "source": [
    "## Self-information\n",
    "\n",
    "We would like to quantify information in a way that formalizes the\n",
    "intuition discussed before:\n",
    "\n",
    "-   Likely events should have *low information content*\n",
    "\n",
    "-   Less likely events should have *higher information content*\n",
    "\n",
    "Moreover, **independent events should have additive\n",
    "        information**. For example, finding out that a tossed coin has\n",
    "        come up as heads twice should convey twice as much information\n",
    "        as finding out that a tossed coin has come up as heads once.\n",
    "\n",
    "To satisfy these three properties, the notion of **self-information** is\n",
    "introduced. Given a random variable $X \\sim P$, the self-information of\n",
    "an event $X = x$ is defined as:\n",
    "\n",
    "$$I(x) = - logP(x)$$\n",
    "\n",
    "If the base of the logarithm is 2, then the self-information is measured\n",
    "in **bits**.\n",
    "\n",
    "If the base of the logarithm is e, then the self-information is measures\n",
    "in **nats.**"
   ]
  },
  {
   "cell_type": "code",
   "execution_count": null,
   "metadata": {
    "tags": [
     "remove-input"
    ]
   },
   "outputs": [
    {
     "data": {
      "image/png": "[encoded data removed]",
      "text/plain": [
       "<Figure size 576x432 with 1 Axes>"
      ]
     },
     "metadata": {},
     "output_type": "display_data"
    }
   ],
   "source": [
    "import matplotlib.pyplot as plt\n",
    "import numpy as np\n",
    "\n",
    "# Define a range of probabilities\n",
    "probabilities = np.linspace(0.01, 15, 100)  # From 0.01 to 1 with 100 points\n",
    "\n",
    "# Calculate self-information for each probability\n",
    "self_information = -np.log2(probabilities)\n",
    "\n",
    "# Create the self-information plot\n",
    "plt.figure(figsize=(8, 6))\n",
    "plt.plot(probabilities, self_information, 'b-', lw=2)\n",
    "plt.xlabel('Probability (P(x))')\n",
    "plt.ylabel('Self-Information (I(x))')\n",
    "plt.title('Self-Information vs. Probability')\n",
    "plt.grid(True)\n",
    "\n",
    "# Show the plot\n",
    "plt.show()\n"
   ]
  },
  {
   "cell_type": "markdown",
   "metadata": {},
   "source": [
    "It should be noted that this definition of self-information satisfies\n",
    "the three conditions. Indeed:\n",
    "\n",
    "-   As $P(x)$ gets larger, $I(x)$ gets smaller and vice versa\n",
    "\n",
    "-   The self-information for two independent variables $X$ and $Y$ is\n",
    "    given by:\n",
    "\n",
    "$$I(X = x,Y = y) = - \\log P(X = x,Y = y)$$\n",
    "\n",
    "-   Since the variables are independent, $P(X,Y) = P(X)P(Y)$, hence:\n",
    "\n",
    "$$I(X = x,Y = y) = - \\log\\left\\lbrack P(X = x)P(Y = y) \\right\\rbrack = - logP(X = x) - \\log P(Y = y) = I(x) + I(y)$$\n",
    "\n",
    "-   Hence, also the additivity of the entropies of independent variables\n",
    "    is satisfied."
   ]
  },
  {
   "cell_type": "markdown",
   "metadata": {},
   "source": [
    "## Entropy\n",
    "\n",
    "*Self-information is defined on a single outcome*. We can quantify the\n",
    "amount of **uncertainty** in an entire probability distribution using\n",
    "the **Shannon entropy**:\n",
    "\n",
    "$$H(X) = E_{X \\sim P}\\left\\lbrack I(x) \\right\\rbrack = - E_{X \\sim P}\\left\\lbrack \\log{P(x)} \\right\\rbrack$$\n",
    "\n",
    "In the case of a discrete variable:\n",
    "\n",
    "$$H(X) = - \\sum_{x}^{}{P(x)logP(x)}$$\n",
    "\n",
    "Where the summation is over all values of $x \\in \\ \\chi$, with $\\chi$\n",
    "alphabet of $X$. In the case of a continuous variable, the sum is\n",
    "substituted by an integral:\n",
    "\n",
    "$$H(X) = - \\int_{}^{}{f(x)\\log f(x)dx}$$\n",
    "\n",
    "The Shannon entropy of a distribution is **the expected amount of\n",
    "information in an event drawn from that distribution**.\n",
    "\n",
    "The entropy is measured in **bits** or **nats** (depending on the base\n",
    "of the logarithm) and can be interpreted as **the amount of information\n",
    "required on the average to describe the random variable**.\n",
    "\n",
    "**Example**\n",
    "\n",
    "-   Let's consider a die with six faces.\n",
    "-   We can describe the outcomes of rolling the die with a random\n",
    "    variable $X$ with alphabet $\\chi = \\ \\left\\{ 1,\\ldots,6 \\right\\}$.\n",
    "-   If the die is fair, then $P(x) = \\frac{1}{6},\\ \\forall x \\in \\chi$.\n",
    "-   The entropy associated with this random variable is:\n",
    "    $H(X) = - \\sum_{i = 1}^{6}{\\frac{1}{6}\\log}\\frac{1}{6} = \\log(6) = 2.58\\ bits$.\n",
    "    -  This makes sense as the minimum number of bits needed to\n",
    "        represent 8 numbers is 3 ($2^{3} = 8$). Since we have less than\n",
    "        8 numbers, in average we need less than 3 bits.\n",
    "-   Let's suppose the die is not fair and in particular Let's suppose\n",
    "    it follows a categorical distribution with\n",
    "    $\\mathbf{p} = \\lbrack 0.1,0.1,0.1,0.1,0.1,0.5\\rbrack$.\n",
    "-   Intuitively, we need less bits to represent this variable. Indeed,\n",
    "    since event $X = 6$ is much more frequent, we can represent it with\n",
    "    the least number of bits, whereas we can represent less frequent\n",
    "    outcomes with more bits. In particular, the entropy of the variable\n",
    "    will be:\n",
    "\n",
    "$$H(X) = - \\sum_{i = 1}^{5}{0.1\\log{0.1}} - 0.5\\log(0.5) = 2.16\\ bits$$\n",
    "\n",
    "-   The number of bits required to represent the variable in average is\n",
    "    2.16 bits, smaller than in the case of the fair die.\n",
    "\n"
   ]
  },
  {
   "cell_type": "markdown",
   "metadata": {},
   "source": [
    "#### Entropy of a Bernoulli variable\n",
    "Let's consider a variable $X$ following a Bernoulli distribution with probability $p$, i.e.:\n",
    "\n",
    "$$X_p = \\begin{cases}\n",
    "1 & \\text{with probability } p\\\\\n",
    "0 & \\text{with probability } 1-p\n",
    "\\end{cases}\n",
    "$$\n",
    "\n",
    "Then the entropy of this variable will be:\n",
    "\n",
    "$$H(X_p) = -p\\log p -(-1-p)\\log(1-p)$$\n",
    "\n",
    "If we plot $H(X_p)$ with respect to $p$, we obtain the following graph:"
   ]
  },
  {
   "cell_type": "code",
   "execution_count": 1,
   "metadata": {
    "tags": [
     "remove-input"
    ]
   },
   "outputs": [
    {
     "data": {
      "image/png": "[encoded data removed]",
      "text/plain": [
       "<Figure size 576x432 with 1 Axes>"
      ]
     },
     "metadata": {
      "needs_background": "light"
     },
     "output_type": "display_data"
    }
   ],
   "source": [
    "import matplotlib.pyplot as plt\n",
    "import numpy as np\n",
    "\n",
    "# Define a range of probabilities (p) for the Bernoulli variable\n",
    "probabilities = np.linspace(0.01, 0.99, 100)  # From 0.01 to 0.99 with 100 points\n",
    "\n",
    "# Calculate entropy for each probability\n",
    "entropy = - (probabilities * np.log2(probabilities) + (1 - probabilities) * np.log2(1 - probabilities))\n",
    "\n",
    "# Create the entropy plot\n",
    "plt.figure(figsize=(8, 6))\n",
    "plt.plot(probabilities, entropy, 'b-', lw=2)\n",
    "plt.xlabel('Probability of Success (p)')\n",
    "plt.ylabel('Entropy (H(p))')\n",
    "plt.title('Entropy of Bernoulli Variable vs. Probability')\n",
    "plt.grid(True)\n",
    "\n",
    "# Show the plot\n",
    "plt.show()\n"
   ]
  },
  {
   "cell_type": "markdown",
   "metadata": {},
   "source": [
    "The diagram above illustrates that entropy is maximum for $p=0.5$, which is coherent with our intuitive understanding of entropy."
   ]
  },
  {
   "cell_type": "markdown",
   "metadata": {},
   "source": [
    "## Other Concepts (Optional)"
   ]
  },
  {
   "cell_type": "markdown",
   "metadata": {},
   "source": [
    "### Joint Entropy and Conditional Entropy\n",
    "\n",
    "Given two random variables $X$ and $Y$, we can define the **joint entropy** as:\n",
    "\n",
    "$$H(X,Y) = -\\sum_{x \\in \\mathcal{X}}\\sum_{y \\in \\mathcal{Y}} p(x,y) \\log p(x,y)$$\n",
    "\n",
    "We will define the **conditional entropy** as follows:\n",
    "\n",
    "$$H(X|Y) = -\\sum_{x \\in \\mathcal{X}}\\sum_{y \\in \\mathcal{Y}} p(x,y) \\log p(x|y)$$\n",
    "\n",
    "The conditional entropy measures the uncertainty over $X$ when $Y$ is known."
   ]
  },
  {
   "cell_type": "markdown",
   "metadata": {},
   "source": [
    "### Kullback-Leibler Divergence\n",
    "\n",
    "The Kullback-Leibler divergence (also called KL-divergence) is a statistical distance measure which can be used to quantify the distance between two probability distributions (i.e., how much different they are from one another). For discrete probability distributions, this is defined as:\n",
    "\n",
    "$$D_{KL}(P || Q) = \\sum_{x \\in \\chi} P(x)\\log\\left(\\frac{P(x)}{Q(x)}\\right)$$\n",
    "\n",
    "where $P$ and $Q$ are the two distributions we want to compare and $\\chi$ is the sample space of such distributions. In practice, it is **the expectation under the distribution P of the logarithmic difference ($\\log\\frac{P(x)}{Q(x)} = \\log P(x)-\\log Q(x)$) between the values of $P(x)$ and $Q(x)$.** \n",
    "\n",
    "The KL divergence measures the **inefficiency of assuming that the distribution is $q$ when the true distribution is $p$**.\n",
    "\n",
    " **It should be noted that this distance measure is not symmetric.**\n",
    "\n",
    " For two continuous densities $p$ and $q$:\n",
    "\n",
    " $$D_{KL}(p || q) = \\int_{\\chi} p(x)\\log\\frac{p(x)}{q(x)}dx$$\n",
    "\n",
    " The KL divergence is also called **relative entropy**.\n"
   ]
  },
  {
   "cell_type": "markdown",
   "metadata": {},
   "source": [
    "### Mutual Information\n",
    "Let us consider two random variables $X$ and $Y$ with a joint probability function $P(X,Y)$. We define the **mutual information** $I(X;Y)$ as the **relative entropy** between the joint distribution and the product distribution:\n",
    "\n",
    "$$I(X;Y) = \\sum_{x \\in \\mathcal{X}}\\sum_{y \\in \\mathcal{Y}} p(x,y) \\log \\frac{P(x,y)}{P(x)P(y)}$$"
   ]
  },
  {
   "cell_type": "markdown",
   "metadata": {},
   "source": [
    "if the KL divergence measures the inefficiency of using $q$ when $p$ is the real distribution, the mutual information measures the inefficiency of using the product $P(x)P(y)$ instead of $P(x,y)$. As you may recall: \n",
    "\n",
    "$$P(X,Y)=P(X)P(Y) \\Leftrightarrow X \\perp Y $$\n",
    "\n",
    "So:\n",
    "* If the two variables are independent, then the mutual information will be equal to zero;\n",
    "* If the two variables are dependent, then the mutual information will be larger than zero.\n",
    "\n",
    "The mutual information allows to quantify how much information a variable will give about another one. **Note that the mutual information is symmetrical.**\n",
    "\n",
    "It can be shown that:\n",
    "\n",
    "$$I(X;Y) = H(X) - H(X|Y)$$\n",
    "\n",
    "From which we observe that **the mutual information between two variables X and Y is the reduction in the uncertainty about one variable when the other one is known.**"
   ]
  },
  {
   "cell_type": "markdown",
   "metadata": {},
   "source": [
    "### Data Processing Inequality\n",
    "\n",
    "We will say that random variables $X$, $Y$, and $Z$ form a Markov Chain in that order (denoted as $X \\to Y \\to Z$) if we can write:\n",
    "\n",
    "$$P(X,Y,Z) = P(Z|Y) P(Y|X) P(X)$$\n",
    "\n",
    "which means that we can obtain $Y$ as a function of $X$ and $Z$ as a function of only $Y$ (without considering $X$ anymore). In some sense, $Y$ encodes whatever we need to encode about $X$.\n",
    "\n",
    "Under these conditions, it can be proved that:\n",
    "\n",
    "$$I(X;Y) \\geq I(X;Z)$$\n",
    "\n",
    "which is known as the **data processing inequality**.\n",
    "\n",
    "This is a fundamental results for data analysis which tells us that, no matter what if $Y$ has been obtained from $X$ with some process which induces information loss, there is no way to recover the lost information from $Y$."
   ]
  },
  {
   "cell_type": "markdown",
   "metadata": {},
   "source": [
    "## References\n",
    "\n",
    "-   Some parts of chapter 1 of \\[3\\].\n",
    "\n",
    "\\[3\\] Cover, Thomas M., and Joy A. Thomas. *Elements of information\n",
    "theory*. John Wiley & Sons, 2012.\n"
   ]
  }
 ],
 "metadata": {
  "kernelspec": {
   "display_name": "base",
   "language": "python",
   "name": "python3"
  },
  "language_info": {
   "codemirror_mode": {
    "name": "ipython",
    "version": 3
   },
   "file_extension": ".py",
   "mimetype": "text/x-python",
   "name": "python",
   "nbconvert_exporter": "python",
   "pygments_lexer": "ipython3",
   "version": "3.9.12"
  }
 },
 "nbformat": 4,
 "nbformat_minor": 2
}
